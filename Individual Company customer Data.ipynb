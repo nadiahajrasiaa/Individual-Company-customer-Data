{
 "cells": [
  {
   "cell_type": "code",
   "execution_count": 63,
   "id": "879604fb",
   "metadata": {},
   "outputs": [],
   "source": [
    "from IPython.display  import Image"
   ]
  },
  {
   "cell_type": "code",
   "execution_count": 65,
   "id": "abe9ce4c",
   "metadata": {},
   "outputs": [
    {
     "data": {
      "image/jpeg": "[encoded data removed]",
      "text/plain": [
       "<IPython.core.display.Image object>"
      ]
     },
     "execution_count": 65,
     "metadata": {},
     "output_type": "execute_result"
    }
   ],
   "source": [
    "Image(filename=\"OIP.jpg\")"
   ]
  },
  {
   "cell_type": "markdown",
   "id": "ddd2c091",
   "metadata": {},
   "source": [
    "#   Individual Company Sales Data\n",
    " \n",
    " They are the sales of an individual company and information about the customer\n",
    " in terms of family income has been collected to find out more ways\n",
    " to attract the customer and what ages, marital status and educational \n",
    " qualifications are affected by sales and through which statistics \n",
    " are made and predicted the most buying and most researched customers\n",
    " \n",
    "Data Description:\n",
    "\n",
    "● Kaggle Dataset: Individual Company Sales Data | Kaggle\n",
    "\n",
    "● This is a sales data from an individual company\n",
    "\n",
    "● dataset includes about 40,000 rows and 15 columns\n",
    "\n",
    "Columns ~~ Description\n",
    "\n",
    "● Flag\\Whether the customer has bought the target product or not\n",
    "\n",
    "● Gender\\Gender of the customer male or female\n",
    "\n",
    "● education\\Education background of customer\n",
    "\n",
    "● house_val\\Value of the residence the customer lives in\n",
    "\n",
    "● Age\\Age of the customer by group\n",
    "\n",
    "● Online\\Whether the customer had online shopping experience or not\n",
    "\n",
    "● customer_psy\\Variable describing consumer psychology based on the area of residence\n",
    "\n",
    "● marriage\\Marriage status of the customer\n",
    "\n",
    "● children \\Whether the customer has children or not\n",
    "\n",
    "● occupation\\Career information of the customer\n",
    "\n",
    "● mortgage\\Housing Loan Information of customers\n",
    "\n",
    "● house_own\\Whether the customer owns a house or not\n",
    "\n",
    "●Region\\Information on the area in which the customer are located\n",
    "\n",
    "●car_prob\\The probability that the customer will buy a new car(1 means the maximum possible）\n",
    "\n",
    "●fam_income\\ Family income Information of the customer(A means the lowest, and L means the highest) \n",
    "\n",
    "\n",
    "Steps of the project as follows:\n",
    "\n",
    "1-Load Dataset\n",
    "\n",
    "2-Explore Dataset\n",
    "\n",
    "3-Cleaning Dataset\n",
    "\n",
    "4-Analysis and Visualization\n",
    "\n",
    " "
   ]
  },
  {
   "cell_type": "code",
   "execution_count": 3,
   "id": "6e0380ff",
   "metadata": {},
   "outputs": [],
   "source": [
    "#import libraries\n",
    "import pandas as pd\n",
    "import numpy as np\n",
    "import matplotlib.pyplot as plt\n",
    "import seaborn as sns"
   ]
  },
  {
   "cell_type": "markdown",
   "id": "8d7ece02",
   "metadata": {},
   "source": [
    "# 1-Load Dataset"
   ]
  },
  {
   "cell_type": "code",
   "execution_count": 66,
   "id": "be59d35a",
   "metadata": {},
   "outputs": [],
   "source": [
    "#load data using panda library\n",
    "df= pd.read_csv(\"sales_data.csv\")"
   ]
  },
  {
   "cell_type": "code",
   "execution_count": 5,
   "id": "69072a12",
   "metadata": {},
   "outputs": [
    {
     "data": {
      "text/html": [
       "<div>\n",
       "<style scoped>\n",
       "    .dataframe tbody tr th:only-of-type {\n",
       "        vertical-align: middle;\n",
       "    }\n",
       "\n",
       "    .dataframe tbody tr th {\n",
       "        vertical-align: top;\n",
       "    }\n",
       "\n",
       "    .dataframe thead th {\n",
       "        text-align: right;\n",
       "    }\n",
       "</style>\n",
       "<table border=\"1\" class=\"dataframe\">\n",
       "  <thead>\n",
       "    <tr style=\"text-align: right;\">\n",
       "      <th></th>\n",
       "      <th>flag</th>\n",
       "      <th>gender</th>\n",
       "      <th>education</th>\n",
       "      <th>house_val</th>\n",
       "      <th>age</th>\n",
       "      <th>online</th>\n",
       "      <th>customer_psy</th>\n",
       "      <th>marriage</th>\n",
       "      <th>child</th>\n",
       "      <th>occupation</th>\n",
       "      <th>mortgage</th>\n",
       "      <th>house_owner</th>\n",
       "      <th>region</th>\n",
       "      <th>car_prob</th>\n",
       "      <th>fam_income</th>\n",
       "    </tr>\n",
       "  </thead>\n",
       "  <tbody>\n",
       "    <tr>\n",
       "      <th>0</th>\n",
       "      <td>Y</td>\n",
       "      <td>M</td>\n",
       "      <td>4. Grad</td>\n",
       "      <td>756460</td>\n",
       "      <td>1_Unk</td>\n",
       "      <td>N</td>\n",
       "      <td>B</td>\n",
       "      <td>NaN</td>\n",
       "      <td>U</td>\n",
       "      <td>Professional</td>\n",
       "      <td>1Low</td>\n",
       "      <td>NaN</td>\n",
       "      <td>Midwest</td>\n",
       "      <td>1</td>\n",
       "      <td>L</td>\n",
       "    </tr>\n",
       "    <tr>\n",
       "      <th>1</th>\n",
       "      <td>N</td>\n",
       "      <td>F</td>\n",
       "      <td>3. Bach</td>\n",
       "      <td>213171</td>\n",
       "      <td>7_&gt;65</td>\n",
       "      <td>N</td>\n",
       "      <td>E</td>\n",
       "      <td>NaN</td>\n",
       "      <td>U</td>\n",
       "      <td>Professional</td>\n",
       "      <td>1Low</td>\n",
       "      <td>Owner</td>\n",
       "      <td>Northeast</td>\n",
       "      <td>3</td>\n",
       "      <td>G</td>\n",
       "    </tr>\n",
       "    <tr>\n",
       "      <th>2</th>\n",
       "      <td>N</td>\n",
       "      <td>M</td>\n",
       "      <td>2. Some College</td>\n",
       "      <td>111147</td>\n",
       "      <td>2_&lt;=25</td>\n",
       "      <td>Y</td>\n",
       "      <td>C</td>\n",
       "      <td>NaN</td>\n",
       "      <td>Y</td>\n",
       "      <td>Professional</td>\n",
       "      <td>1Low</td>\n",
       "      <td>Owner</td>\n",
       "      <td>Midwest</td>\n",
       "      <td>1</td>\n",
       "      <td>J</td>\n",
       "    </tr>\n",
       "    <tr>\n",
       "      <th>3</th>\n",
       "      <td>Y</td>\n",
       "      <td>M</td>\n",
       "      <td>2. Some College</td>\n",
       "      <td>354151</td>\n",
       "      <td>2_&lt;=25</td>\n",
       "      <td>Y</td>\n",
       "      <td>B</td>\n",
       "      <td>Single</td>\n",
       "      <td>U</td>\n",
       "      <td>Sales/Service</td>\n",
       "      <td>1Low</td>\n",
       "      <td>NaN</td>\n",
       "      <td>West</td>\n",
       "      <td>2</td>\n",
       "      <td>L</td>\n",
       "    </tr>\n",
       "    <tr>\n",
       "      <th>4</th>\n",
       "      <td>Y</td>\n",
       "      <td>F</td>\n",
       "      <td>2. Some College</td>\n",
       "      <td>117087</td>\n",
       "      <td>1_Unk</td>\n",
       "      <td>Y</td>\n",
       "      <td>J</td>\n",
       "      <td>Married</td>\n",
       "      <td>Y</td>\n",
       "      <td>Sales/Service</td>\n",
       "      <td>1Low</td>\n",
       "      <td>NaN</td>\n",
       "      <td>South</td>\n",
       "      <td>7</td>\n",
       "      <td>H</td>\n",
       "    </tr>\n",
       "    <tr>\n",
       "      <th>...</th>\n",
       "      <td>...</td>\n",
       "      <td>...</td>\n",
       "      <td>...</td>\n",
       "      <td>...</td>\n",
       "      <td>...</td>\n",
       "      <td>...</td>\n",
       "      <td>...</td>\n",
       "      <td>...</td>\n",
       "      <td>...</td>\n",
       "      <td>...</td>\n",
       "      <td>...</td>\n",
       "      <td>...</td>\n",
       "      <td>...</td>\n",
       "      <td>...</td>\n",
       "      <td>...</td>\n",
       "    </tr>\n",
       "    <tr>\n",
       "      <th>39995</th>\n",
       "      <td>Y</td>\n",
       "      <td>F</td>\n",
       "      <td>3. Bach</td>\n",
       "      <td>0</td>\n",
       "      <td>7_&gt;65</td>\n",
       "      <td>Y</td>\n",
       "      <td>C</td>\n",
       "      <td>NaN</td>\n",
       "      <td>U</td>\n",
       "      <td>Retired</td>\n",
       "      <td>1Low</td>\n",
       "      <td>NaN</td>\n",
       "      <td>South</td>\n",
       "      <td>3</td>\n",
       "      <td>F</td>\n",
       "    </tr>\n",
       "    <tr>\n",
       "      <th>39996</th>\n",
       "      <td>N</td>\n",
       "      <td>F</td>\n",
       "      <td>1. HS</td>\n",
       "      <td>213596</td>\n",
       "      <td>4_&lt;=45</td>\n",
       "      <td>N</td>\n",
       "      <td>I</td>\n",
       "      <td>Married</td>\n",
       "      <td>U</td>\n",
       "      <td>Blue Collar</td>\n",
       "      <td>1Low</td>\n",
       "      <td>Owner</td>\n",
       "      <td>South</td>\n",
       "      <td>1</td>\n",
       "      <td>D</td>\n",
       "    </tr>\n",
       "    <tr>\n",
       "      <th>39997</th>\n",
       "      <td>Y</td>\n",
       "      <td>M</td>\n",
       "      <td>0. &lt;HS</td>\n",
       "      <td>134070</td>\n",
       "      <td>3_&lt;=35</td>\n",
       "      <td>Y</td>\n",
       "      <td>F</td>\n",
       "      <td>Married</td>\n",
       "      <td>U</td>\n",
       "      <td>Sales/Service</td>\n",
       "      <td>1Low</td>\n",
       "      <td>Owner</td>\n",
       "      <td>Midwest</td>\n",
       "      <td>4</td>\n",
       "      <td>E</td>\n",
       "    </tr>\n",
       "    <tr>\n",
       "      <th>39998</th>\n",
       "      <td>N</td>\n",
       "      <td>M</td>\n",
       "      <td>1. HS</td>\n",
       "      <td>402210</td>\n",
       "      <td>7_&gt;65</td>\n",
       "      <td>Y</td>\n",
       "      <td>E</td>\n",
       "      <td>NaN</td>\n",
       "      <td>Y</td>\n",
       "      <td>Sales/Service</td>\n",
       "      <td>1Low</td>\n",
       "      <td>NaN</td>\n",
       "      <td>West</td>\n",
       "      <td>2</td>\n",
       "      <td>B</td>\n",
       "    </tr>\n",
       "    <tr>\n",
       "      <th>39999</th>\n",
       "      <td>N</td>\n",
       "      <td>F</td>\n",
       "      <td>3. Bach</td>\n",
       "      <td>836030</td>\n",
       "      <td>7_&gt;65</td>\n",
       "      <td>Y</td>\n",
       "      <td>B</td>\n",
       "      <td>Married</td>\n",
       "      <td>N</td>\n",
       "      <td>Retired</td>\n",
       "      <td>2Med</td>\n",
       "      <td>Owner</td>\n",
       "      <td>Northeast</td>\n",
       "      <td>1</td>\n",
       "      <td>J</td>\n",
       "    </tr>\n",
       "  </tbody>\n",
       "</table>\n",
       "<p>40000 rows × 15 columns</p>\n",
       "</div>"
      ],
      "text/plain": [
       "      flag gender        education  house_val     age online customer_psy  \\\n",
       "0        Y      M          4. Grad     756460   1_Unk      N            B   \n",
       "1        N      F          3. Bach     213171   7_>65      N            E   \n",
       "2        N      M  2. Some College     111147  2_<=25      Y            C   \n",
       "3        Y      M  2. Some College     354151  2_<=25      Y            B   \n",
       "4        Y      F  2. Some College     117087   1_Unk      Y            J   \n",
       "...    ...    ...              ...        ...     ...    ...          ...   \n",
       "39995    Y      F          3. Bach          0   7_>65      Y            C   \n",
       "39996    N      F            1. HS     213596  4_<=45      N            I   \n",
       "39997    Y      M           0. <HS     134070  3_<=35      Y            F   \n",
       "39998    N      M            1. HS     402210   7_>65      Y            E   \n",
       "39999    N      F          3. Bach     836030   7_>65      Y            B   \n",
       "\n",
       "      marriage child     occupation mortgage house_owner     region  car_prob  \\\n",
       "0          NaN     U   Professional     1Low         NaN    Midwest         1   \n",
       "1          NaN     U   Professional     1Low       Owner  Northeast         3   \n",
       "2          NaN     Y   Professional     1Low       Owner    Midwest         1   \n",
       "3       Single     U  Sales/Service     1Low         NaN       West         2   \n",
       "4      Married     Y  Sales/Service     1Low         NaN      South         7   \n",
       "...        ...   ...            ...      ...         ...        ...       ...   \n",
       "39995      NaN     U        Retired     1Low         NaN      South         3   \n",
       "39996  Married     U    Blue Collar     1Low       Owner      South         1   \n",
       "39997  Married     U  Sales/Service     1Low       Owner    Midwest         4   \n",
       "39998      NaN     Y  Sales/Service     1Low         NaN       West         2   \n",
       "39999  Married     N        Retired     2Med       Owner  Northeast         1   \n",
       "\n",
       "      fam_income  \n",
       "0              L  \n",
       "1              G  \n",
       "2              J  \n",
       "3              L  \n",
       "4              H  \n",
       "...          ...  \n",
       "39995          F  \n",
       "39996          D  \n",
       "39997          E  \n",
       "39998          B  \n",
       "39999          J  \n",
       "\n",
       "[40000 rows x 15 columns]"
      ]
     },
     "execution_count": 5,
     "metadata": {},
     "output_type": "execute_result"
    }
   ],
   "source": [
    "df"
   ]
  },
  {
   "cell_type": "markdown",
   "id": "243059d1",
   "metadata": {},
   "source": [
    "# 2-Explore Dataset"
   ]
  },
  {
   "cell_type": "code",
   "execution_count": 6,
   "id": "e6a53ad1",
   "metadata": {
    "scrolled": true
   },
   "outputs": [
    {
     "data": {
      "text/html": [
       "<div>\n",
       "<style scoped>\n",
       "    .dataframe tbody tr th:only-of-type {\n",
       "        vertical-align: middle;\n",
       "    }\n",
       "\n",
       "    .dataframe tbody tr th {\n",
       "        vertical-align: top;\n",
       "    }\n",
       "\n",
       "    .dataframe thead th {\n",
       "        text-align: right;\n",
       "    }\n",
       "</style>\n",
       "<table border=\"1\" class=\"dataframe\">\n",
       "  <thead>\n",
       "    <tr style=\"text-align: right;\">\n",
       "      <th></th>\n",
       "      <th>flag</th>\n",
       "      <th>gender</th>\n",
       "      <th>education</th>\n",
       "      <th>house_val</th>\n",
       "      <th>age</th>\n",
       "      <th>online</th>\n",
       "      <th>customer_psy</th>\n",
       "      <th>marriage</th>\n",
       "      <th>child</th>\n",
       "      <th>occupation</th>\n",
       "      <th>mortgage</th>\n",
       "      <th>house_owner</th>\n",
       "      <th>region</th>\n",
       "      <th>car_prob</th>\n",
       "      <th>fam_income</th>\n",
       "    </tr>\n",
       "  </thead>\n",
       "  <tbody>\n",
       "    <tr>\n",
       "      <th>0</th>\n",
       "      <td>Y</td>\n",
       "      <td>M</td>\n",
       "      <td>4. Grad</td>\n",
       "      <td>756460</td>\n",
       "      <td>1_Unk</td>\n",
       "      <td>N</td>\n",
       "      <td>B</td>\n",
       "      <td>NaN</td>\n",
       "      <td>U</td>\n",
       "      <td>Professional</td>\n",
       "      <td>1Low</td>\n",
       "      <td>NaN</td>\n",
       "      <td>Midwest</td>\n",
       "      <td>1</td>\n",
       "      <td>L</td>\n",
       "    </tr>\n",
       "    <tr>\n",
       "      <th>1</th>\n",
       "      <td>N</td>\n",
       "      <td>F</td>\n",
       "      <td>3. Bach</td>\n",
       "      <td>213171</td>\n",
       "      <td>7_&gt;65</td>\n",
       "      <td>N</td>\n",
       "      <td>E</td>\n",
       "      <td>NaN</td>\n",
       "      <td>U</td>\n",
       "      <td>Professional</td>\n",
       "      <td>1Low</td>\n",
       "      <td>Owner</td>\n",
       "      <td>Northeast</td>\n",
       "      <td>3</td>\n",
       "      <td>G</td>\n",
       "    </tr>\n",
       "    <tr>\n",
       "      <th>2</th>\n",
       "      <td>N</td>\n",
       "      <td>M</td>\n",
       "      <td>2. Some College</td>\n",
       "      <td>111147</td>\n",
       "      <td>2_&lt;=25</td>\n",
       "      <td>Y</td>\n",
       "      <td>C</td>\n",
       "      <td>NaN</td>\n",
       "      <td>Y</td>\n",
       "      <td>Professional</td>\n",
       "      <td>1Low</td>\n",
       "      <td>Owner</td>\n",
       "      <td>Midwest</td>\n",
       "      <td>1</td>\n",
       "      <td>J</td>\n",
       "    </tr>\n",
       "    <tr>\n",
       "      <th>3</th>\n",
       "      <td>Y</td>\n",
       "      <td>M</td>\n",
       "      <td>2. Some College</td>\n",
       "      <td>354151</td>\n",
       "      <td>2_&lt;=25</td>\n",
       "      <td>Y</td>\n",
       "      <td>B</td>\n",
       "      <td>Single</td>\n",
       "      <td>U</td>\n",
       "      <td>Sales/Service</td>\n",
       "      <td>1Low</td>\n",
       "      <td>NaN</td>\n",
       "      <td>West</td>\n",
       "      <td>2</td>\n",
       "      <td>L</td>\n",
       "    </tr>\n",
       "    <tr>\n",
       "      <th>4</th>\n",
       "      <td>Y</td>\n",
       "      <td>F</td>\n",
       "      <td>2. Some College</td>\n",
       "      <td>117087</td>\n",
       "      <td>1_Unk</td>\n",
       "      <td>Y</td>\n",
       "      <td>J</td>\n",
       "      <td>Married</td>\n",
       "      <td>Y</td>\n",
       "      <td>Sales/Service</td>\n",
       "      <td>1Low</td>\n",
       "      <td>NaN</td>\n",
       "      <td>South</td>\n",
       "      <td>7</td>\n",
       "      <td>H</td>\n",
       "    </tr>\n",
       "  </tbody>\n",
       "</table>\n",
       "</div>"
      ],
      "text/plain": [
       "  flag gender        education  house_val     age online customer_psy  \\\n",
       "0    Y      M          4. Grad     756460   1_Unk      N            B   \n",
       "1    N      F          3. Bach     213171   7_>65      N            E   \n",
       "2    N      M  2. Some College     111147  2_<=25      Y            C   \n",
       "3    Y      M  2. Some College     354151  2_<=25      Y            B   \n",
       "4    Y      F  2. Some College     117087   1_Unk      Y            J   \n",
       "\n",
       "  marriage child     occupation mortgage house_owner     region  car_prob  \\\n",
       "0      NaN     U   Professional     1Low         NaN    Midwest         1   \n",
       "1      NaN     U   Professional     1Low       Owner  Northeast         3   \n",
       "2      NaN     Y   Professional     1Low       Owner    Midwest         1   \n",
       "3   Single     U  Sales/Service     1Low         NaN       West         2   \n",
       "4  Married     Y  Sales/Service     1Low         NaN      South         7   \n",
       "\n",
       "  fam_income  \n",
       "0          L  \n",
       "1          G  \n",
       "2          J  \n",
       "3          L  \n",
       "4          H  "
      ]
     },
     "execution_count": 6,
     "metadata": {},
     "output_type": "execute_result"
    }
   ],
   "source": [
    "#display first row in data\n",
    "df.head(5)"
   ]
  },
  {
   "cell_type": "code",
   "execution_count": 7,
   "id": "837bd91e",
   "metadata": {},
   "outputs": [
    {
     "data": {
      "text/html": [
       "<div>\n",
       "<style scoped>\n",
       "    .dataframe tbody tr th:only-of-type {\n",
       "        vertical-align: middle;\n",
       "    }\n",
       "\n",
       "    .dataframe tbody tr th {\n",
       "        vertical-align: top;\n",
       "    }\n",
       "\n",
       "    .dataframe thead th {\n",
       "        text-align: right;\n",
       "    }\n",
       "</style>\n",
       "<table border=\"1\" class=\"dataframe\">\n",
       "  <thead>\n",
       "    <tr style=\"text-align: right;\">\n",
       "      <th></th>\n",
       "      <th>flag</th>\n",
       "      <th>gender</th>\n",
       "      <th>education</th>\n",
       "      <th>house_val</th>\n",
       "      <th>age</th>\n",
       "      <th>online</th>\n",
       "      <th>customer_psy</th>\n",
       "      <th>marriage</th>\n",
       "      <th>child</th>\n",
       "      <th>occupation</th>\n",
       "      <th>mortgage</th>\n",
       "      <th>house_owner</th>\n",
       "      <th>region</th>\n",
       "      <th>car_prob</th>\n",
       "      <th>fam_income</th>\n",
       "    </tr>\n",
       "  </thead>\n",
       "  <tbody>\n",
       "    <tr>\n",
       "      <th>39995</th>\n",
       "      <td>Y</td>\n",
       "      <td>F</td>\n",
       "      <td>3. Bach</td>\n",
       "      <td>0</td>\n",
       "      <td>7_&gt;65</td>\n",
       "      <td>Y</td>\n",
       "      <td>C</td>\n",
       "      <td>NaN</td>\n",
       "      <td>U</td>\n",
       "      <td>Retired</td>\n",
       "      <td>1Low</td>\n",
       "      <td>NaN</td>\n",
       "      <td>South</td>\n",
       "      <td>3</td>\n",
       "      <td>F</td>\n",
       "    </tr>\n",
       "    <tr>\n",
       "      <th>39996</th>\n",
       "      <td>N</td>\n",
       "      <td>F</td>\n",
       "      <td>1. HS</td>\n",
       "      <td>213596</td>\n",
       "      <td>4_&lt;=45</td>\n",
       "      <td>N</td>\n",
       "      <td>I</td>\n",
       "      <td>Married</td>\n",
       "      <td>U</td>\n",
       "      <td>Blue Collar</td>\n",
       "      <td>1Low</td>\n",
       "      <td>Owner</td>\n",
       "      <td>South</td>\n",
       "      <td>1</td>\n",
       "      <td>D</td>\n",
       "    </tr>\n",
       "    <tr>\n",
       "      <th>39997</th>\n",
       "      <td>Y</td>\n",
       "      <td>M</td>\n",
       "      <td>0. &lt;HS</td>\n",
       "      <td>134070</td>\n",
       "      <td>3_&lt;=35</td>\n",
       "      <td>Y</td>\n",
       "      <td>F</td>\n",
       "      <td>Married</td>\n",
       "      <td>U</td>\n",
       "      <td>Sales/Service</td>\n",
       "      <td>1Low</td>\n",
       "      <td>Owner</td>\n",
       "      <td>Midwest</td>\n",
       "      <td>4</td>\n",
       "      <td>E</td>\n",
       "    </tr>\n",
       "    <tr>\n",
       "      <th>39998</th>\n",
       "      <td>N</td>\n",
       "      <td>M</td>\n",
       "      <td>1. HS</td>\n",
       "      <td>402210</td>\n",
       "      <td>7_&gt;65</td>\n",
       "      <td>Y</td>\n",
       "      <td>E</td>\n",
       "      <td>NaN</td>\n",
       "      <td>Y</td>\n",
       "      <td>Sales/Service</td>\n",
       "      <td>1Low</td>\n",
       "      <td>NaN</td>\n",
       "      <td>West</td>\n",
       "      <td>2</td>\n",
       "      <td>B</td>\n",
       "    </tr>\n",
       "    <tr>\n",
       "      <th>39999</th>\n",
       "      <td>N</td>\n",
       "      <td>F</td>\n",
       "      <td>3. Bach</td>\n",
       "      <td>836030</td>\n",
       "      <td>7_&gt;65</td>\n",
       "      <td>Y</td>\n",
       "      <td>B</td>\n",
       "      <td>Married</td>\n",
       "      <td>N</td>\n",
       "      <td>Retired</td>\n",
       "      <td>2Med</td>\n",
       "      <td>Owner</td>\n",
       "      <td>Northeast</td>\n",
       "      <td>1</td>\n",
       "      <td>J</td>\n",
       "    </tr>\n",
       "  </tbody>\n",
       "</table>\n",
       "</div>"
      ],
      "text/plain": [
       "      flag gender education  house_val     age online customer_psy marriage  \\\n",
       "39995    Y      F   3. Bach          0   7_>65      Y            C      NaN   \n",
       "39996    N      F     1. HS     213596  4_<=45      N            I  Married   \n",
       "39997    Y      M    0. <HS     134070  3_<=35      Y            F  Married   \n",
       "39998    N      M     1. HS     402210   7_>65      Y            E      NaN   \n",
       "39999    N      F   3. Bach     836030   7_>65      Y            B  Married   \n",
       "\n",
       "      child     occupation mortgage house_owner     region  car_prob  \\\n",
       "39995     U        Retired     1Low         NaN      South         3   \n",
       "39996     U    Blue Collar     1Low       Owner      South         1   \n",
       "39997     U  Sales/Service     1Low       Owner    Midwest         4   \n",
       "39998     Y  Sales/Service     1Low         NaN       West         2   \n",
       "39999     N        Retired     2Med       Owner  Northeast         1   \n",
       "\n",
       "      fam_income  \n",
       "39995          F  \n",
       "39996          D  \n",
       "39997          E  \n",
       "39998          B  \n",
       "39999          J  "
      ]
     },
     "execution_count": 7,
     "metadata": {},
     "output_type": "execute_result"
    }
   ],
   "source": [
    "#display last data\n",
    "df.tail(5)"
   ]
  },
  {
   "cell_type": "code",
   "execution_count": 8,
   "id": "28cf7430",
   "metadata": {},
   "outputs": [
    {
     "name": "stdout",
     "output_type": "stream",
     "text": [
      "<class 'pandas.core.frame.DataFrame'>\n",
      "RangeIndex: 40000 entries, 0 to 39999\n",
      "Data columns (total 15 columns):\n",
      " #   Column        Non-Null Count  Dtype \n",
      "---  ------        --------------  ----- \n",
      " 0   flag          40000 non-null  object\n",
      " 1   gender        40000 non-null  object\n",
      " 2   education     39259 non-null  object\n",
      " 3   house_val     40000 non-null  int64 \n",
      " 4   age           40000 non-null  object\n",
      " 5   online        40000 non-null  object\n",
      " 6   customer_psy  40000 non-null  object\n",
      " 7   marriage      25973 non-null  object\n",
      " 8   child         40000 non-null  object\n",
      " 9   occupation    40000 non-null  object\n",
      " 10  mortgage      40000 non-null  object\n",
      " 11  house_owner   36623 non-null  object\n",
      " 12  region        40000 non-null  object\n",
      " 13  car_prob      40000 non-null  int64 \n",
      " 14  fam_income    40000 non-null  object\n",
      "dtypes: int64(2), object(13)\n",
      "memory usage: 4.6+ MB\n"
     ]
    }
   ],
   "source": [
    "#display info data\n",
    "df.info()"
   ]
  },
  {
   "cell_type": "code",
   "execution_count": 9,
   "id": "5223417b",
   "metadata": {},
   "outputs": [
    {
     "data": {
      "text/html": [
       "<div>\n",
       "<style scoped>\n",
       "    .dataframe tbody tr th:only-of-type {\n",
       "        vertical-align: middle;\n",
       "    }\n",
       "\n",
       "    .dataframe tbody tr th {\n",
       "        vertical-align: top;\n",
       "    }\n",
       "\n",
       "    .dataframe thead th {\n",
       "        text-align: right;\n",
       "    }\n",
       "</style>\n",
       "<table border=\"1\" class=\"dataframe\">\n",
       "  <thead>\n",
       "    <tr style=\"text-align: right;\">\n",
       "      <th></th>\n",
       "      <th>flag</th>\n",
       "      <th>gender</th>\n",
       "      <th>education</th>\n",
       "      <th>house_val</th>\n",
       "      <th>age</th>\n",
       "      <th>online</th>\n",
       "      <th>customer_psy</th>\n",
       "      <th>marriage</th>\n",
       "      <th>child</th>\n",
       "      <th>occupation</th>\n",
       "      <th>mortgage</th>\n",
       "      <th>house_owner</th>\n",
       "      <th>region</th>\n",
       "      <th>car_prob</th>\n",
       "      <th>fam_income</th>\n",
       "    </tr>\n",
       "  </thead>\n",
       "  <tbody>\n",
       "    <tr>\n",
       "      <th>37682</th>\n",
       "      <td>N</td>\n",
       "      <td>F</td>\n",
       "      <td>2. Some College</td>\n",
       "      <td>249566</td>\n",
       "      <td>2_&lt;=25</td>\n",
       "      <td>Y</td>\n",
       "      <td>B</td>\n",
       "      <td>NaN</td>\n",
       "      <td>N</td>\n",
       "      <td>Sales/Service</td>\n",
       "      <td>1Low</td>\n",
       "      <td>Owner</td>\n",
       "      <td>Midwest</td>\n",
       "      <td>1</td>\n",
       "      <td>H</td>\n",
       "    </tr>\n",
       "    <tr>\n",
       "      <th>31007</th>\n",
       "      <td>N</td>\n",
       "      <td>F</td>\n",
       "      <td>0. &lt;HS</td>\n",
       "      <td>249406</td>\n",
       "      <td>1_Unk</td>\n",
       "      <td>Y</td>\n",
       "      <td>E</td>\n",
       "      <td>NaN</td>\n",
       "      <td>Y</td>\n",
       "      <td>Blue Collar</td>\n",
       "      <td>1Low</td>\n",
       "      <td>Owner</td>\n",
       "      <td>South</td>\n",
       "      <td>3</td>\n",
       "      <td>E</td>\n",
       "    </tr>\n",
       "    <tr>\n",
       "      <th>13192</th>\n",
       "      <td>N</td>\n",
       "      <td>F</td>\n",
       "      <td>3. Bach</td>\n",
       "      <td>197072</td>\n",
       "      <td>7_&gt;65</td>\n",
       "      <td>N</td>\n",
       "      <td>D</td>\n",
       "      <td>Married</td>\n",
       "      <td>N</td>\n",
       "      <td>Professional</td>\n",
       "      <td>1Low</td>\n",
       "      <td>Owner</td>\n",
       "      <td>Midwest</td>\n",
       "      <td>1</td>\n",
       "      <td>D</td>\n",
       "    </tr>\n",
       "    <tr>\n",
       "      <th>2138</th>\n",
       "      <td>Y</td>\n",
       "      <td>F</td>\n",
       "      <td>3. Bach</td>\n",
       "      <td>292076</td>\n",
       "      <td>6_&lt;=65</td>\n",
       "      <td>N</td>\n",
       "      <td>C</td>\n",
       "      <td>NaN</td>\n",
       "      <td>Y</td>\n",
       "      <td>Sales/Service</td>\n",
       "      <td>1Low</td>\n",
       "      <td>Owner</td>\n",
       "      <td>South</td>\n",
       "      <td>5</td>\n",
       "      <td>F</td>\n",
       "    </tr>\n",
       "    <tr>\n",
       "      <th>13481</th>\n",
       "      <td>Y</td>\n",
       "      <td>M</td>\n",
       "      <td>2. Some College</td>\n",
       "      <td>348255</td>\n",
       "      <td>5_&lt;=55</td>\n",
       "      <td>Y</td>\n",
       "      <td>F</td>\n",
       "      <td>Married</td>\n",
       "      <td>Y</td>\n",
       "      <td>Sales/Service</td>\n",
       "      <td>2Med</td>\n",
       "      <td>Owner</td>\n",
       "      <td>West</td>\n",
       "      <td>7</td>\n",
       "      <td>E</td>\n",
       "    </tr>\n",
       "    <tr>\n",
       "      <th>19133</th>\n",
       "      <td>N</td>\n",
       "      <td>F</td>\n",
       "      <td>2. Some College</td>\n",
       "      <td>58751</td>\n",
       "      <td>1_Unk</td>\n",
       "      <td>N</td>\n",
       "      <td>G</td>\n",
       "      <td>Single</td>\n",
       "      <td>Y</td>\n",
       "      <td>Professional</td>\n",
       "      <td>1Low</td>\n",
       "      <td>Renter</td>\n",
       "      <td>Northeast</td>\n",
       "      <td>9</td>\n",
       "      <td>A</td>\n",
       "    </tr>\n",
       "    <tr>\n",
       "      <th>14338</th>\n",
       "      <td>Y</td>\n",
       "      <td>M</td>\n",
       "      <td>0. &lt;HS</td>\n",
       "      <td>110373</td>\n",
       "      <td>1_Unk</td>\n",
       "      <td>Y</td>\n",
       "      <td>I</td>\n",
       "      <td>Married</td>\n",
       "      <td>U</td>\n",
       "      <td>Blue Collar</td>\n",
       "      <td>1Low</td>\n",
       "      <td>NaN</td>\n",
       "      <td>South</td>\n",
       "      <td>9</td>\n",
       "      <td>A</td>\n",
       "    </tr>\n",
       "    <tr>\n",
       "      <th>16957</th>\n",
       "      <td>Y</td>\n",
       "      <td>M</td>\n",
       "      <td>3. Bach</td>\n",
       "      <td>790489</td>\n",
       "      <td>1_Unk</td>\n",
       "      <td>Y</td>\n",
       "      <td>B</td>\n",
       "      <td>NaN</td>\n",
       "      <td>U</td>\n",
       "      <td>Sales/Service</td>\n",
       "      <td>1Low</td>\n",
       "      <td>Owner</td>\n",
       "      <td>Northeast</td>\n",
       "      <td>3</td>\n",
       "      <td>E</td>\n",
       "    </tr>\n",
       "    <tr>\n",
       "      <th>26277</th>\n",
       "      <td>Y</td>\n",
       "      <td>M</td>\n",
       "      <td>3. Bach</td>\n",
       "      <td>514632</td>\n",
       "      <td>5_&lt;=55</td>\n",
       "      <td>Y</td>\n",
       "      <td>C</td>\n",
       "      <td>Married</td>\n",
       "      <td>Y</td>\n",
       "      <td>Professional</td>\n",
       "      <td>3High</td>\n",
       "      <td>Owner</td>\n",
       "      <td>South</td>\n",
       "      <td>2</td>\n",
       "      <td>J</td>\n",
       "    </tr>\n",
       "    <tr>\n",
       "      <th>10773</th>\n",
       "      <td>N</td>\n",
       "      <td>F</td>\n",
       "      <td>NaN</td>\n",
       "      <td>130080</td>\n",
       "      <td>1_Unk</td>\n",
       "      <td>N</td>\n",
       "      <td>I</td>\n",
       "      <td>Married</td>\n",
       "      <td>N</td>\n",
       "      <td>Blue Collar</td>\n",
       "      <td>1Low</td>\n",
       "      <td>Renter</td>\n",
       "      <td>Northeast</td>\n",
       "      <td>3</td>\n",
       "      <td>D</td>\n",
       "    </tr>\n",
       "  </tbody>\n",
       "</table>\n",
       "</div>"
      ],
      "text/plain": [
       "      flag gender        education  house_val     age online customer_psy  \\\n",
       "37682    N      F  2. Some College     249566  2_<=25      Y            B   \n",
       "31007    N      F           0. <HS     249406   1_Unk      Y            E   \n",
       "13192    N      F          3. Bach     197072   7_>65      N            D   \n",
       "2138     Y      F          3. Bach     292076  6_<=65      N            C   \n",
       "13481    Y      M  2. Some College     348255  5_<=55      Y            F   \n",
       "19133    N      F  2. Some College      58751   1_Unk      N            G   \n",
       "14338    Y      M           0. <HS     110373   1_Unk      Y            I   \n",
       "16957    Y      M          3. Bach     790489   1_Unk      Y            B   \n",
       "26277    Y      M          3. Bach     514632  5_<=55      Y            C   \n",
       "10773    N      F              NaN     130080   1_Unk      N            I   \n",
       "\n",
       "      marriage child     occupation mortgage house_owner     region  car_prob  \\\n",
       "37682      NaN     N  Sales/Service     1Low       Owner    Midwest         1   \n",
       "31007      NaN     Y    Blue Collar     1Low       Owner      South         3   \n",
       "13192  Married     N   Professional     1Low       Owner    Midwest         1   \n",
       "2138       NaN     Y  Sales/Service     1Low       Owner      South         5   \n",
       "13481  Married     Y  Sales/Service     2Med       Owner       West         7   \n",
       "19133   Single     Y   Professional     1Low      Renter  Northeast         9   \n",
       "14338  Married     U    Blue Collar     1Low         NaN      South         9   \n",
       "16957      NaN     U  Sales/Service     1Low       Owner  Northeast         3   \n",
       "26277  Married     Y   Professional    3High       Owner      South         2   \n",
       "10773  Married     N    Blue Collar     1Low      Renter  Northeast         3   \n",
       "\n",
       "      fam_income  \n",
       "37682          H  \n",
       "31007          E  \n",
       "13192          D  \n",
       "2138           F  \n",
       "13481          E  \n",
       "19133          A  \n",
       "14338          A  \n",
       "16957          E  \n",
       "26277          J  \n",
       "10773          D  "
      ]
     },
     "execution_count": 9,
     "metadata": {},
     "output_type": "execute_result"
    }
   ],
   "source": [
    "df.sample(10, random_state=100)"
   ]
  },
  {
   "cell_type": "code",
   "execution_count": 10,
   "id": "a38ed112",
   "metadata": {},
   "outputs": [
    {
     "data": {
      "text/plain": [
       "Index(['flag', 'gender', 'education', 'house_val', 'age', 'online',\n",
       "       'customer_psy', 'marriage', 'child', 'occupation', 'mortgage',\n",
       "       'house_owner', 'region', 'car_prob', 'fam_income'],\n",
       "      dtype='object')"
      ]
     },
     "execution_count": 10,
     "metadata": {},
     "output_type": "execute_result"
    }
   ],
   "source": [
    "#display only feauters \n",
    "df.columns"
   ]
  },
  {
   "cell_type": "code",
   "execution_count": 11,
   "id": "c4ad187a",
   "metadata": {},
   "outputs": [
    {
     "data": {
      "text/plain": [
       "flag            object\n",
       "gender          object\n",
       "education       object\n",
       "house_val        int64\n",
       "age             object\n",
       "online          object\n",
       "customer_psy    object\n",
       "marriage        object\n",
       "child           object\n",
       "occupation      object\n",
       "mortgage        object\n",
       "house_owner     object\n",
       "region          object\n",
       "car_prob         int64\n",
       "fam_income      object\n",
       "dtype: object"
      ]
     },
     "execution_count": 11,
     "metadata": {},
     "output_type": "execute_result"
    }
   ],
   "source": [
    "#display type of the feauters \n",
    "df.dtypes"
   ]
  },
  {
   "cell_type": "code",
   "execution_count": 12,
   "id": "2ccd15cd",
   "metadata": {},
   "outputs": [
    {
     "data": {
      "text/html": [
       "<div>\n",
       "<style scoped>\n",
       "    .dataframe tbody tr th:only-of-type {\n",
       "        vertical-align: middle;\n",
       "    }\n",
       "\n",
       "    .dataframe tbody tr th {\n",
       "        vertical-align: top;\n",
       "    }\n",
       "\n",
       "    .dataframe thead th {\n",
       "        text-align: right;\n",
       "    }\n",
       "</style>\n",
       "<table border=\"1\" class=\"dataframe\">\n",
       "  <thead>\n",
       "    <tr style=\"text-align: right;\">\n",
       "      <th></th>\n",
       "      <th>house_val</th>\n",
       "      <th>car_prob</th>\n",
       "    </tr>\n",
       "  </thead>\n",
       "  <tbody>\n",
       "    <tr>\n",
       "      <th>count</th>\n",
       "      <td>4.000000e+04</td>\n",
       "      <td>40000.000000</td>\n",
       "    </tr>\n",
       "    <tr>\n",
       "      <th>mean</th>\n",
       "      <td>3.072138e+05</td>\n",
       "      <td>3.491150</td>\n",
       "    </tr>\n",
       "    <tr>\n",
       "      <th>std</th>\n",
       "      <td>4.222146e+05</td>\n",
       "      <td>2.577719</td>\n",
       "    </tr>\n",
       "    <tr>\n",
       "      <th>min</th>\n",
       "      <td>0.000000e+00</td>\n",
       "      <td>0.000000</td>\n",
       "    </tr>\n",
       "    <tr>\n",
       "      <th>25%</th>\n",
       "      <td>8.065725e+04</td>\n",
       "      <td>1.000000</td>\n",
       "    </tr>\n",
       "    <tr>\n",
       "      <th>50%</th>\n",
       "      <td>2.148720e+05</td>\n",
       "      <td>3.000000</td>\n",
       "    </tr>\n",
       "    <tr>\n",
       "      <th>75%</th>\n",
       "      <td>3.937620e+05</td>\n",
       "      <td>5.000000</td>\n",
       "    </tr>\n",
       "    <tr>\n",
       "      <th>max</th>\n",
       "      <td>9.999999e+06</td>\n",
       "      <td>9.000000</td>\n",
       "    </tr>\n",
       "  </tbody>\n",
       "</table>\n",
       "</div>"
      ],
      "text/plain": [
       "          house_val      car_prob\n",
       "count  4.000000e+04  40000.000000\n",
       "mean   3.072138e+05      3.491150\n",
       "std    4.222146e+05      2.577719\n",
       "min    0.000000e+00      0.000000\n",
       "25%    8.065725e+04      1.000000\n",
       "50%    2.148720e+05      3.000000\n",
       "75%    3.937620e+05      5.000000\n",
       "max    9.999999e+06      9.000000"
      ]
     },
     "execution_count": 12,
     "metadata": {},
     "output_type": "execute_result"
    }
   ],
   "source": [
    "df.describe()"
   ]
  },
  {
   "cell_type": "code",
   "execution_count": 13,
   "id": "3a00bb1b",
   "metadata": {},
   "outputs": [
    {
     "data": {
      "text/html": [
       "<div>\n",
       "<style scoped>\n",
       "    .dataframe tbody tr th:only-of-type {\n",
       "        vertical-align: middle;\n",
       "    }\n",
       "\n",
       "    .dataframe tbody tr th {\n",
       "        vertical-align: top;\n",
       "    }\n",
       "\n",
       "    .dataframe thead th {\n",
       "        text-align: right;\n",
       "    }\n",
       "</style>\n",
       "<table border=\"1\" class=\"dataframe\">\n",
       "  <thead>\n",
       "    <tr style=\"text-align: right;\">\n",
       "      <th></th>\n",
       "      <th>flag</th>\n",
       "      <th>gender</th>\n",
       "      <th>education</th>\n",
       "      <th>house_value</th>\n",
       "      <th>age</th>\n",
       "      <th>online</th>\n",
       "      <th>customer_psy</th>\n",
       "      <th>marriage</th>\n",
       "      <th>child</th>\n",
       "      <th>occupation</th>\n",
       "      <th>mortgage</th>\n",
       "      <th>house_owner</th>\n",
       "      <th>region</th>\n",
       "      <th>car_prob</th>\n",
       "      <th>fam_income</th>\n",
       "    </tr>\n",
       "  </thead>\n",
       "  <tbody>\n",
       "    <tr>\n",
       "      <th>0</th>\n",
       "      <td>Y</td>\n",
       "      <td>M</td>\n",
       "      <td>4. Grad</td>\n",
       "      <td>756460</td>\n",
       "      <td>1_Unk</td>\n",
       "      <td>N</td>\n",
       "      <td>B</td>\n",
       "      <td>NaN</td>\n",
       "      <td>U</td>\n",
       "      <td>Professional</td>\n",
       "      <td>1Low</td>\n",
       "      <td>NaN</td>\n",
       "      <td>Midwest</td>\n",
       "      <td>1</td>\n",
       "      <td>L</td>\n",
       "    </tr>\n",
       "    <tr>\n",
       "      <th>1</th>\n",
       "      <td>N</td>\n",
       "      <td>F</td>\n",
       "      <td>3. Bach</td>\n",
       "      <td>213171</td>\n",
       "      <td>7_&gt;65</td>\n",
       "      <td>N</td>\n",
       "      <td>E</td>\n",
       "      <td>NaN</td>\n",
       "      <td>U</td>\n",
       "      <td>Professional</td>\n",
       "      <td>1Low</td>\n",
       "      <td>Owner</td>\n",
       "      <td>Northeast</td>\n",
       "      <td>3</td>\n",
       "      <td>G</td>\n",
       "    </tr>\n",
       "    <tr>\n",
       "      <th>2</th>\n",
       "      <td>N</td>\n",
       "      <td>M</td>\n",
       "      <td>2. Some College</td>\n",
       "      <td>111147</td>\n",
       "      <td>2_&lt;=25</td>\n",
       "      <td>Y</td>\n",
       "      <td>C</td>\n",
       "      <td>NaN</td>\n",
       "      <td>Y</td>\n",
       "      <td>Professional</td>\n",
       "      <td>1Low</td>\n",
       "      <td>Owner</td>\n",
       "      <td>Midwest</td>\n",
       "      <td>1</td>\n",
       "      <td>J</td>\n",
       "    </tr>\n",
       "    <tr>\n",
       "      <th>3</th>\n",
       "      <td>Y</td>\n",
       "      <td>M</td>\n",
       "      <td>2. Some College</td>\n",
       "      <td>354151</td>\n",
       "      <td>2_&lt;=25</td>\n",
       "      <td>Y</td>\n",
       "      <td>B</td>\n",
       "      <td>Single</td>\n",
       "      <td>U</td>\n",
       "      <td>Sales/Service</td>\n",
       "      <td>1Low</td>\n",
       "      <td>NaN</td>\n",
       "      <td>West</td>\n",
       "      <td>2</td>\n",
       "      <td>L</td>\n",
       "    </tr>\n",
       "    <tr>\n",
       "      <th>4</th>\n",
       "      <td>Y</td>\n",
       "      <td>F</td>\n",
       "      <td>2. Some College</td>\n",
       "      <td>117087</td>\n",
       "      <td>1_Unk</td>\n",
       "      <td>Y</td>\n",
       "      <td>J</td>\n",
       "      <td>Married</td>\n",
       "      <td>Y</td>\n",
       "      <td>Sales/Service</td>\n",
       "      <td>1Low</td>\n",
       "      <td>NaN</td>\n",
       "      <td>South</td>\n",
       "      <td>7</td>\n",
       "      <td>H</td>\n",
       "    </tr>\n",
       "  </tbody>\n",
       "</table>\n",
       "</div>"
      ],
      "text/plain": [
       "  flag gender        education  house_value     age online customer_psy  \\\n",
       "0    Y      M          4. Grad       756460   1_Unk      N            B   \n",
       "1    N      F          3. Bach       213171   7_>65      N            E   \n",
       "2    N      M  2. Some College       111147  2_<=25      Y            C   \n",
       "3    Y      M  2. Some College       354151  2_<=25      Y            B   \n",
       "4    Y      F  2. Some College       117087   1_Unk      Y            J   \n",
       "\n",
       "  marriage child     occupation mortgage house_owner     region  car_prob  \\\n",
       "0      NaN     U   Professional     1Low         NaN    Midwest         1   \n",
       "1      NaN     U   Professional     1Low       Owner  Northeast         3   \n",
       "2      NaN     Y   Professional     1Low       Owner    Midwest         1   \n",
       "3   Single     U  Sales/Service     1Low         NaN       West         2   \n",
       "4  Married     Y  Sales/Service     1Low         NaN      South         7   \n",
       "\n",
       "  fam_income  \n",
       "0          L  \n",
       "1          G  \n",
       "2          J  \n",
       "3          L  \n",
       "4          H  "
      ]
     },
     "execution_count": 13,
     "metadata": {},
     "output_type": "execute_result"
    }
   ],
   "source": [
    "df.rename(columns={'house_val': 'house_value'}, inplace=True)\n",
    "df.head()"
   ]
  },
  {
   "cell_type": "code",
   "execution_count": 14,
   "id": "f3554cf7",
   "metadata": {},
   "outputs": [
    {
     "data": {
      "text/plain": [
       "array(['4. Grad', '3. Bach', '2. Some College', '1. HS', '0. <HS', nan],\n",
       "      dtype=object)"
      ]
     },
     "execution_count": 14,
     "metadata": {},
     "output_type": "execute_result"
    }
   ],
   "source": [
    "df.education.unique()"
   ]
  },
  {
   "cell_type": "code",
   "execution_count": 15,
   "id": "fceb5997",
   "metadata": {},
   "outputs": [
    {
     "data": {
      "text/plain": [
       "array(['Professional', 'Sales/Service', 'Blue Collar', 'Others',\n",
       "       'Retired', 'Farm'], dtype=object)"
      ]
     },
     "execution_count": 15,
     "metadata": {},
     "output_type": "execute_result"
    }
   ],
   "source": [
    "df.occupation.unique()"
   ]
  },
  {
   "cell_type": "code",
   "execution_count": 16,
   "id": "94e32e02",
   "metadata": {},
   "outputs": [
    {
     "data": {
      "text/plain": [
       "array(['1_Unk', '7_>65', '2_<=25', '6_<=65', '5_<=55', '4_<=45', '3_<=35'],\n",
       "      dtype=object)"
      ]
     },
     "execution_count": 16,
     "metadata": {},
     "output_type": "execute_result"
    }
   ],
   "source": [
    "df.age.unique()"
   ]
  },
  {
   "cell_type": "code",
   "execution_count": 17,
   "id": "a0dd9f38",
   "metadata": {},
   "outputs": [
    {
     "data": {
      "text/plain": [
       "array(['Professional', 'Sales/Service', 'Blue Collar', 'Others',\n",
       "       'Retired', 'Farm'], dtype=object)"
      ]
     },
     "execution_count": 17,
     "metadata": {},
     "output_type": "execute_result"
    }
   ],
   "source": [
    "df.occupation.unique()"
   ]
  },
  {
   "cell_type": "code",
   "execution_count": 18,
   "id": "d79be6a6",
   "metadata": {},
   "outputs": [
    {
     "data": {
      "text/plain": [
       "array(['M', 'F', 'U'], dtype=object)"
      ]
     },
     "execution_count": 18,
     "metadata": {},
     "output_type": "execute_result"
    }
   ],
   "source": [
    "df.gender.unique()"
   ]
  },
  {
   "cell_type": "code",
   "execution_count": 19,
   "id": "b5495e23",
   "metadata": {},
   "outputs": [
    {
     "data": {
      "text/plain": [
       "array(['Midwest', 'Northeast', 'West', 'South', 'Rest'], dtype=object)"
      ]
     },
     "execution_count": 19,
     "metadata": {},
     "output_type": "execute_result"
    }
   ],
   "source": [
    "df.region.unique()"
   ]
  },
  {
   "cell_type": "code",
   "execution_count": 20,
   "id": "133e86d4",
   "metadata": {},
   "outputs": [
    {
     "data": {
      "text/html": [
       "<div>\n",
       "<style scoped>\n",
       "    .dataframe tbody tr th:only-of-type {\n",
       "        vertical-align: middle;\n",
       "    }\n",
       "\n",
       "    .dataframe tbody tr th {\n",
       "        vertical-align: top;\n",
       "    }\n",
       "\n",
       "    .dataframe thead th {\n",
       "        text-align: right;\n",
       "    }\n",
       "</style>\n",
       "<table border=\"1\" class=\"dataframe\">\n",
       "  <thead>\n",
       "    <tr style=\"text-align: right;\">\n",
       "      <th></th>\n",
       "      <th>flag</th>\n",
       "      <th>gender</th>\n",
       "      <th>education</th>\n",
       "      <th>house_value</th>\n",
       "      <th>age</th>\n",
       "      <th>online</th>\n",
       "      <th>customer_psy</th>\n",
       "      <th>marriage</th>\n",
       "      <th>child</th>\n",
       "      <th>occupation</th>\n",
       "      <th>mortgage</th>\n",
       "      <th>house_owner</th>\n",
       "      <th>region</th>\n",
       "      <th>car_prob</th>\n",
       "      <th>fam_income</th>\n",
       "    </tr>\n",
       "  </thead>\n",
       "  <tbody>\n",
       "    <tr>\n",
       "      <th>26722</th>\n",
       "      <td>Y</td>\n",
       "      <td>M</td>\n",
       "      <td>3. Bach</td>\n",
       "      <td>9999999</td>\n",
       "      <td>4_&lt;=45</td>\n",
       "      <td>Y</td>\n",
       "      <td>C</td>\n",
       "      <td>Married</td>\n",
       "      <td>Y</td>\n",
       "      <td>Professional</td>\n",
       "      <td>1Low</td>\n",
       "      <td>Owner</td>\n",
       "      <td>South</td>\n",
       "      <td>1</td>\n",
       "      <td>L</td>\n",
       "    </tr>\n",
       "    <tr>\n",
       "      <th>11248</th>\n",
       "      <td>N</td>\n",
       "      <td>F</td>\n",
       "      <td>0. &lt;HS</td>\n",
       "      <td>9813106</td>\n",
       "      <td>1_Unk</td>\n",
       "      <td>N</td>\n",
       "      <td>G</td>\n",
       "      <td>Single</td>\n",
       "      <td>Y</td>\n",
       "      <td>Sales/Service</td>\n",
       "      <td>1Low</td>\n",
       "      <td>Renter</td>\n",
       "      <td>Northeast</td>\n",
       "      <td>9</td>\n",
       "      <td>C</td>\n",
       "    </tr>\n",
       "    <tr>\n",
       "      <th>12119</th>\n",
       "      <td>N</td>\n",
       "      <td>F</td>\n",
       "      <td>2. Some College</td>\n",
       "      <td>9413054</td>\n",
       "      <td>7_&gt;65</td>\n",
       "      <td>Y</td>\n",
       "      <td>B</td>\n",
       "      <td>NaN</td>\n",
       "      <td>N</td>\n",
       "      <td>Retired</td>\n",
       "      <td>1Low</td>\n",
       "      <td>Owner</td>\n",
       "      <td>West</td>\n",
       "      <td>2</td>\n",
       "      <td>C</td>\n",
       "    </tr>\n",
       "  </tbody>\n",
       "</table>\n",
       "</div>"
      ],
      "text/plain": [
       "      flag gender        education  house_value     age online customer_psy  \\\n",
       "26722    Y      M          3. Bach      9999999  4_<=45      Y            C   \n",
       "11248    N      F           0. <HS      9813106   1_Unk      N            G   \n",
       "12119    N      F  2. Some College      9413054   7_>65      Y            B   \n",
       "\n",
       "      marriage child     occupation mortgage house_owner     region  car_prob  \\\n",
       "26722  Married     Y   Professional     1Low       Owner      South         1   \n",
       "11248   Single     Y  Sales/Service     1Low      Renter  Northeast         9   \n",
       "12119      NaN     N        Retired     1Low       Owner       West         2   \n",
       "\n",
       "      fam_income  \n",
       "26722          L  \n",
       "11248          C  \n",
       "12119          C  "
      ]
     },
     "execution_count": 20,
     "metadata": {},
     "output_type": "execute_result"
    }
   ],
   "source": [
    "df.nlargest(3,'house_value')"
   ]
  },
  {
   "cell_type": "markdown",
   "id": "05b1bd7c",
   "metadata": {},
   "source": [
    "# 3.Cleaning Dataset"
   ]
  },
  {
   "cell_type": "code",
   "execution_count": 21,
   "id": "f0ad4572",
   "metadata": {},
   "outputs": [],
   "source": [
    "df.drop(columns=[\"car_prob\",\"customer_psy\",\"mortgage\"],inplace=True)"
   ]
  },
  {
   "cell_type": "code",
   "execution_count": 22,
   "id": "fbad3b04",
   "metadata": {},
   "outputs": [
    {
     "data": {
      "text/html": [
       "<div>\n",
       "<style scoped>\n",
       "    .dataframe tbody tr th:only-of-type {\n",
       "        vertical-align: middle;\n",
       "    }\n",
       "\n",
       "    .dataframe tbody tr th {\n",
       "        vertical-align: top;\n",
       "    }\n",
       "\n",
       "    .dataframe thead th {\n",
       "        text-align: right;\n",
       "    }\n",
       "</style>\n",
       "<table border=\"1\" class=\"dataframe\">\n",
       "  <thead>\n",
       "    <tr style=\"text-align: right;\">\n",
       "      <th></th>\n",
       "      <th>flag</th>\n",
       "      <th>gender</th>\n",
       "      <th>education</th>\n",
       "      <th>house_value</th>\n",
       "      <th>age</th>\n",
       "      <th>online</th>\n",
       "      <th>marriage</th>\n",
       "      <th>child</th>\n",
       "      <th>occupation</th>\n",
       "      <th>house_owner</th>\n",
       "      <th>region</th>\n",
       "      <th>fam_income</th>\n",
       "    </tr>\n",
       "  </thead>\n",
       "  <tbody>\n",
       "    <tr>\n",
       "      <th>0</th>\n",
       "      <td>Y</td>\n",
       "      <td>M</td>\n",
       "      <td>4. Grad</td>\n",
       "      <td>756460</td>\n",
       "      <td>1_Unk</td>\n",
       "      <td>N</td>\n",
       "      <td>NaN</td>\n",
       "      <td>U</td>\n",
       "      <td>Professional</td>\n",
       "      <td>NaN</td>\n",
       "      <td>Midwest</td>\n",
       "      <td>L</td>\n",
       "    </tr>\n",
       "    <tr>\n",
       "      <th>1</th>\n",
       "      <td>N</td>\n",
       "      <td>F</td>\n",
       "      <td>3. Bach</td>\n",
       "      <td>213171</td>\n",
       "      <td>7_&gt;65</td>\n",
       "      <td>N</td>\n",
       "      <td>NaN</td>\n",
       "      <td>U</td>\n",
       "      <td>Professional</td>\n",
       "      <td>Owner</td>\n",
       "      <td>Northeast</td>\n",
       "      <td>G</td>\n",
       "    </tr>\n",
       "    <tr>\n",
       "      <th>2</th>\n",
       "      <td>N</td>\n",
       "      <td>M</td>\n",
       "      <td>2. Some College</td>\n",
       "      <td>111147</td>\n",
       "      <td>2_&lt;=25</td>\n",
       "      <td>Y</td>\n",
       "      <td>NaN</td>\n",
       "      <td>Y</td>\n",
       "      <td>Professional</td>\n",
       "      <td>Owner</td>\n",
       "      <td>Midwest</td>\n",
       "      <td>J</td>\n",
       "    </tr>\n",
       "    <tr>\n",
       "      <th>3</th>\n",
       "      <td>Y</td>\n",
       "      <td>M</td>\n",
       "      <td>2. Some College</td>\n",
       "      <td>354151</td>\n",
       "      <td>2_&lt;=25</td>\n",
       "      <td>Y</td>\n",
       "      <td>Single</td>\n",
       "      <td>U</td>\n",
       "      <td>Sales/Service</td>\n",
       "      <td>NaN</td>\n",
       "      <td>West</td>\n",
       "      <td>L</td>\n",
       "    </tr>\n",
       "    <tr>\n",
       "      <th>4</th>\n",
       "      <td>Y</td>\n",
       "      <td>F</td>\n",
       "      <td>2. Some College</td>\n",
       "      <td>117087</td>\n",
       "      <td>1_Unk</td>\n",
       "      <td>Y</td>\n",
       "      <td>Married</td>\n",
       "      <td>Y</td>\n",
       "      <td>Sales/Service</td>\n",
       "      <td>NaN</td>\n",
       "      <td>South</td>\n",
       "      <td>H</td>\n",
       "    </tr>\n",
       "  </tbody>\n",
       "</table>\n",
       "</div>"
      ],
      "text/plain": [
       "  flag gender        education  house_value     age online marriage child  \\\n",
       "0    Y      M          4. Grad       756460   1_Unk      N      NaN     U   \n",
       "1    N      F          3. Bach       213171   7_>65      N      NaN     U   \n",
       "2    N      M  2. Some College       111147  2_<=25      Y      NaN     Y   \n",
       "3    Y      M  2. Some College       354151  2_<=25      Y   Single     U   \n",
       "4    Y      F  2. Some College       117087   1_Unk      Y  Married     Y   \n",
       "\n",
       "      occupation house_owner     region fam_income  \n",
       "0   Professional         NaN    Midwest          L  \n",
       "1   Professional       Owner  Northeast          G  \n",
       "2   Professional       Owner    Midwest          J  \n",
       "3  Sales/Service         NaN       West          L  \n",
       "4  Sales/Service         NaN      South          H  "
      ]
     },
     "execution_count": 22,
     "metadata": {},
     "output_type": "execute_result"
    }
   ],
   "source": [
    "df.head()"
   ]
  },
  {
   "cell_type": "code",
   "execution_count": 23,
   "id": "643274ea",
   "metadata": {},
   "outputs": [
    {
     "data": {
      "text/plain": [
       "<AxesSubplot:>"
      ]
     },
     "execution_count": 23,
     "metadata": {},
     "output_type": "execute_result"
    },
    {
     "data": {
      "image/png": "[encoded data removed]",
      "text/plain": [
       "<Figure size 432x288 with 2 Axes>"
      ]
     },
     "metadata": {
      "needs_background": "light"
     },
     "output_type": "display_data"
    }
   ],
   "source": [
    "#chart plot of heatmap daspliy the null in cloumns \n",
    "sns.heatmap(df.isnull(),cmap=\"Blues_r\")"
   ]
  },
  {
   "cell_type": "code",
   "execution_count": 24,
   "id": "87e0d503",
   "metadata": {},
   "outputs": [
    {
     "data": {
      "text/plain": [
       "flag               0\n",
       "gender             0\n",
       "education        741\n",
       "house_value        0\n",
       "age                0\n",
       "online             0\n",
       "marriage       14027\n",
       "child              0\n",
       "occupation         0\n",
       "house_owner     3377\n",
       "region             0\n",
       "fam_income         0\n",
       "dtype: int64"
      ]
     },
     "execution_count": 24,
     "metadata": {},
     "output_type": "execute_result"
    }
   ],
   "source": [
    "#check the null values in each column\n",
    "df.isna().sum()"
   ]
  },
  {
   "cell_type": "code",
   "execution_count": 25,
   "id": "28fa842c",
   "metadata": {},
   "outputs": [],
   "source": [
    "null_values=df[df[\"education\"].isnull()]"
   ]
  },
  {
   "cell_type": "code",
   "execution_count": 26,
   "id": "eeb43533",
   "metadata": {},
   "outputs": [
    {
     "data": {
      "text/html": [
       "<div>\n",
       "<style scoped>\n",
       "    .dataframe tbody tr th:only-of-type {\n",
       "        vertical-align: middle;\n",
       "    }\n",
       "\n",
       "    .dataframe tbody tr th {\n",
       "        vertical-align: top;\n",
       "    }\n",
       "\n",
       "    .dataframe thead th {\n",
       "        text-align: right;\n",
       "    }\n",
       "</style>\n",
       "<table border=\"1\" class=\"dataframe\">\n",
       "  <thead>\n",
       "    <tr style=\"text-align: right;\">\n",
       "      <th></th>\n",
       "      <th>flag</th>\n",
       "      <th>gender</th>\n",
       "      <th>education</th>\n",
       "      <th>house_value</th>\n",
       "      <th>age</th>\n",
       "      <th>online</th>\n",
       "      <th>marriage</th>\n",
       "      <th>child</th>\n",
       "      <th>occupation</th>\n",
       "      <th>house_owner</th>\n",
       "      <th>region</th>\n",
       "      <th>fam_income</th>\n",
       "    </tr>\n",
       "  </thead>\n",
       "  <tbody>\n",
       "    <tr>\n",
       "      <th>51</th>\n",
       "      <td>N</td>\n",
       "      <td>F</td>\n",
       "      <td>NaN</td>\n",
       "      <td>582365</td>\n",
       "      <td>2_&lt;=25</td>\n",
       "      <td>N</td>\n",
       "      <td>NaN</td>\n",
       "      <td>N</td>\n",
       "      <td>Professional</td>\n",
       "      <td>Owner</td>\n",
       "      <td>Northeast</td>\n",
       "      <td>K</td>\n",
       "    </tr>\n",
       "    <tr>\n",
       "      <th>65</th>\n",
       "      <td>N</td>\n",
       "      <td>F</td>\n",
       "      <td>NaN</td>\n",
       "      <td>0</td>\n",
       "      <td>4_&lt;=45</td>\n",
       "      <td>Y</td>\n",
       "      <td>Married</td>\n",
       "      <td>U</td>\n",
       "      <td>Blue Collar</td>\n",
       "      <td>Owner</td>\n",
       "      <td>South</td>\n",
       "      <td>D</td>\n",
       "    </tr>\n",
       "    <tr>\n",
       "      <th>82</th>\n",
       "      <td>Y</td>\n",
       "      <td>M</td>\n",
       "      <td>NaN</td>\n",
       "      <td>976912</td>\n",
       "      <td>1_Unk</td>\n",
       "      <td>Y</td>\n",
       "      <td>NaN</td>\n",
       "      <td>U</td>\n",
       "      <td>Others</td>\n",
       "      <td>Owner</td>\n",
       "      <td>Midwest</td>\n",
       "      <td>L</td>\n",
       "    </tr>\n",
       "    <tr>\n",
       "      <th>108</th>\n",
       "      <td>Y</td>\n",
       "      <td>M</td>\n",
       "      <td>NaN</td>\n",
       "      <td>48160</td>\n",
       "      <td>1_Unk</td>\n",
       "      <td>Y</td>\n",
       "      <td>NaN</td>\n",
       "      <td>Y</td>\n",
       "      <td>Others</td>\n",
       "      <td>Owner</td>\n",
       "      <td>South</td>\n",
       "      <td>D</td>\n",
       "    </tr>\n",
       "    <tr>\n",
       "      <th>118</th>\n",
       "      <td>N</td>\n",
       "      <td>M</td>\n",
       "      <td>NaN</td>\n",
       "      <td>530917</td>\n",
       "      <td>5_&lt;=55</td>\n",
       "      <td>N</td>\n",
       "      <td>Married</td>\n",
       "      <td>U</td>\n",
       "      <td>Sales/Service</td>\n",
       "      <td>Owner</td>\n",
       "      <td>Midwest</td>\n",
       "      <td>G</td>\n",
       "    </tr>\n",
       "    <tr>\n",
       "      <th>...</th>\n",
       "      <td>...</td>\n",
       "      <td>...</td>\n",
       "      <td>...</td>\n",
       "      <td>...</td>\n",
       "      <td>...</td>\n",
       "      <td>...</td>\n",
       "      <td>...</td>\n",
       "      <td>...</td>\n",
       "      <td>...</td>\n",
       "      <td>...</td>\n",
       "      <td>...</td>\n",
       "      <td>...</td>\n",
       "    </tr>\n",
       "    <tr>\n",
       "      <th>39849</th>\n",
       "      <td>N</td>\n",
       "      <td>F</td>\n",
       "      <td>NaN</td>\n",
       "      <td>0</td>\n",
       "      <td>6_&lt;=65</td>\n",
       "      <td>N</td>\n",
       "      <td>NaN</td>\n",
       "      <td>Y</td>\n",
       "      <td>Professional</td>\n",
       "      <td>Owner</td>\n",
       "      <td>West</td>\n",
       "      <td>H</td>\n",
       "    </tr>\n",
       "    <tr>\n",
       "      <th>39864</th>\n",
       "      <td>N</td>\n",
       "      <td>F</td>\n",
       "      <td>NaN</td>\n",
       "      <td>175490</td>\n",
       "      <td>7_&gt;65</td>\n",
       "      <td>Y</td>\n",
       "      <td>NaN</td>\n",
       "      <td>N</td>\n",
       "      <td>Retired</td>\n",
       "      <td>Owner</td>\n",
       "      <td>South</td>\n",
       "      <td>C</td>\n",
       "    </tr>\n",
       "    <tr>\n",
       "      <th>39874</th>\n",
       "      <td>N</td>\n",
       "      <td>F</td>\n",
       "      <td>NaN</td>\n",
       "      <td>99190</td>\n",
       "      <td>5_&lt;=55</td>\n",
       "      <td>N</td>\n",
       "      <td>NaN</td>\n",
       "      <td>Y</td>\n",
       "      <td>Sales/Service</td>\n",
       "      <td>NaN</td>\n",
       "      <td>South</td>\n",
       "      <td>A</td>\n",
       "    </tr>\n",
       "    <tr>\n",
       "      <th>39893</th>\n",
       "      <td>Y</td>\n",
       "      <td>F</td>\n",
       "      <td>NaN</td>\n",
       "      <td>0</td>\n",
       "      <td>1_Unk</td>\n",
       "      <td>Y</td>\n",
       "      <td>Single</td>\n",
       "      <td>Y</td>\n",
       "      <td>Sales/Service</td>\n",
       "      <td>NaN</td>\n",
       "      <td>Northeast</td>\n",
       "      <td>F</td>\n",
       "    </tr>\n",
       "    <tr>\n",
       "      <th>39959</th>\n",
       "      <td>Y</td>\n",
       "      <td>M</td>\n",
       "      <td>NaN</td>\n",
       "      <td>169271</td>\n",
       "      <td>1_Unk</td>\n",
       "      <td>Y</td>\n",
       "      <td>NaN</td>\n",
       "      <td>N</td>\n",
       "      <td>Others</td>\n",
       "      <td>Owner</td>\n",
       "      <td>West</td>\n",
       "      <td>B</td>\n",
       "    </tr>\n",
       "  </tbody>\n",
       "</table>\n",
       "<p>741 rows × 12 columns</p>\n",
       "</div>"
      ],
      "text/plain": [
       "      flag gender education  house_value     age online marriage child  \\\n",
       "51       N      F       NaN       582365  2_<=25      N      NaN     N   \n",
       "65       N      F       NaN            0  4_<=45      Y  Married     U   \n",
       "82       Y      M       NaN       976912   1_Unk      Y      NaN     U   \n",
       "108      Y      M       NaN        48160   1_Unk      Y      NaN     Y   \n",
       "118      N      M       NaN       530917  5_<=55      N  Married     U   \n",
       "...    ...    ...       ...          ...     ...    ...      ...   ...   \n",
       "39849    N      F       NaN            0  6_<=65      N      NaN     Y   \n",
       "39864    N      F       NaN       175490   7_>65      Y      NaN     N   \n",
       "39874    N      F       NaN        99190  5_<=55      N      NaN     Y   \n",
       "39893    Y      F       NaN            0   1_Unk      Y   Single     Y   \n",
       "39959    Y      M       NaN       169271   1_Unk      Y      NaN     N   \n",
       "\n",
       "          occupation house_owner     region fam_income  \n",
       "51      Professional       Owner  Northeast          K  \n",
       "65       Blue Collar       Owner      South          D  \n",
       "82            Others       Owner    Midwest          L  \n",
       "108           Others       Owner      South          D  \n",
       "118    Sales/Service       Owner    Midwest          G  \n",
       "...              ...         ...        ...        ...  \n",
       "39849   Professional       Owner       West          H  \n",
       "39864        Retired       Owner      South          C  \n",
       "39874  Sales/Service         NaN      South          A  \n",
       "39893  Sales/Service         NaN  Northeast          F  \n",
       "39959         Others       Owner       West          B  \n",
       "\n",
       "[741 rows x 12 columns]"
      ]
     },
     "execution_count": 26,
     "metadata": {},
     "output_type": "execute_result"
    }
   ],
   "source": [
    "null_values"
   ]
  },
  {
   "cell_type": "code",
   "execution_count": 27,
   "id": "b4069510",
   "metadata": {},
   "outputs": [
    {
     "data": {
      "text/plain": [
       "(741, 12)"
      ]
     },
     "execution_count": 27,
     "metadata": {},
     "output_type": "execute_result"
    }
   ],
   "source": [
    "null_values.shape"
   ]
  },
  {
   "cell_type": "code",
   "execution_count": 28,
   "id": "315c6a24",
   "metadata": {},
   "outputs": [],
   "source": [
    "df=df.dropna()"
   ]
  },
  {
   "cell_type": "code",
   "execution_count": 29,
   "id": "69f0832f",
   "metadata": {},
   "outputs": [
    {
     "data": {
      "text/plain": [
       "flag           0\n",
       "gender         0\n",
       "education      0\n",
       "house_value    0\n",
       "age            0\n",
       "online         0\n",
       "marriage       0\n",
       "child          0\n",
       "occupation     0\n",
       "house_owner    0\n",
       "region         0\n",
       "fam_income     0\n",
       "dtype: int64"
      ]
     },
     "execution_count": 29,
     "metadata": {},
     "output_type": "execute_result"
    }
   ],
   "source": [
    "#check the null values in each column after cleaning \n",
    "df.isna().sum()"
   ]
  },
  {
   "cell_type": "code",
   "execution_count": 30,
   "id": "dc309ede",
   "metadata": {},
   "outputs": [
    {
     "data": {
      "text/plain": [
       "(23558, 12)"
      ]
     },
     "execution_count": 30,
     "metadata": {},
     "output_type": "execute_result"
    }
   ],
   "source": [
    "df.shape"
   ]
  },
  {
   "cell_type": "markdown",
   "id": "0b498965",
   "metadata": {},
   "source": [
    "# 4.Analysis and Visualization¶"
   ]
  },
  {
   "cell_type": "markdown",
   "id": "7d3d0ff2",
   "metadata": {},
   "source": [
    "# Q1\\ what most common of fam_income customer "
   ]
  },
  {
   "cell_type": "code",
   "execution_count": 31,
   "id": "43ef1f72",
   "metadata": {},
   "outputs": [
    {
     "data": {
      "text/plain": [
       "E    4882\n",
       "F    4101\n",
       "G    2606\n",
       "D    2473\n",
       "H    1602\n",
       "C    1358\n",
       "A    1193\n",
       "B    1124\n",
       "L    1082\n",
       "J    1077\n",
       "I    1077\n",
       "K     970\n",
       "U      13\n",
       "Name: fam_income, dtype: int64"
      ]
     },
     "execution_count": 31,
     "metadata": {},
     "output_type": "execute_result"
    }
   ],
   "source": [
    "fam_income1= df['fam_income']\n",
    "fam_income1.value_counts()"
   ]
  },
  {
   "cell_type": "code",
   "execution_count": 32,
   "id": "8c8602fa",
   "metadata": {},
   "outputs": [
    {
     "data": {
      "text/plain": [
       "4882"
      ]
     },
     "execution_count": 32,
     "metadata": {},
     "output_type": "execute_result"
    }
   ],
   "source": [
    "df['fam_income'].value_counts().max()"
   ]
  },
  {
   "cell_type": "code",
   "execution_count": 33,
   "id": "97a607fb",
   "metadata": {},
   "outputs": [
    {
     "data": {
      "image/png": "[encoded data removed]",
      "text/plain": [
       "<Figure size 576x432 with 1 Axes>"
      ]
     },
     "metadata": {
      "needs_background": "light"
     },
     "output_type": "display_data"
    }
   ],
   "source": [
    "plt.xlabel(\"fam_income\")\n",
    "plt.ylabel(\"count\")\n",
    "plt.title('what most common of fam_income customer?', fontsize=20,fontweight=10,  pad='2.0',fontstyle='italic')\n",
    "fam_income1.value_counts().plot(kind='bar',color='SteelBlue', figsize=(8,6))\n",
    "plt.show()"
   ]
  },
  {
   "cell_type": "markdown",
   "id": "0f5545e7",
   "metadata": {},
   "source": [
    "# Q2\\ what most common gender on the customer"
   ]
  },
  {
   "cell_type": "code",
   "execution_count": 34,
   "id": "97c1744e",
   "metadata": {},
   "outputs": [
    {
     "name": "stdout",
     "output_type": "stream",
     "text": [
      "  gender online  Count\n",
      "0      F      N   2769\n",
      "1      F      Y   6183\n",
      "2      M      N   3960\n",
      "3      M      Y  10238\n",
      "4      U      N    302\n",
      "5      U      Y    106\n"
     ]
    }
   ],
   "source": [
    "gender_bp = df.groupby(['gender', 'online']).size().reset_index(name = 'Count')\n",
    "print(gender_bp)"
   ]
  },
  {
   "cell_type": "code",
   "execution_count": 35,
   "id": "5ad47cbc",
   "metadata": {},
   "outputs": [
    {
     "data": {
      "image/png": "[encoded data removed]",
      "text/plain": [
       "<Figure size 576x432 with 1 Axes>"
      ]
     },
     "metadata": {
      "needs_background": "light"
     },
     "output_type": "display_data"
    }
   ],
   "source": [
    "plt.figure(figsize = (8,6))\n",
    "sns.barplot(x = 'gender', y = 'Count', hue = 'online', data =gender_bp, palette=\"Blues_r\")\n",
    "plt.title('most common of the gander sales online ',fontweight=\"bold\")\n",
    "plt.show()"
   ]
  },
  {
   "cell_type": "markdown",
   "id": "805d66ee",
   "metadata": {},
   "source": [
    "# Q3\\  What is the most common education on the customer?"
   ]
  },
  {
   "cell_type": "code",
   "execution_count": 36,
   "id": "3633174e",
   "metadata": {},
   "outputs": [
    {
     "data": {
      "text/plain": [
       "2. Some College    6548\n",
       "3. Bach            5992\n",
       "1. HS              5047\n",
       "4. Grad            3911\n",
       "0. <HS             2060\n",
       "Name: education, dtype: int64"
      ]
     },
     "execution_count": 36,
     "metadata": {},
     "output_type": "execute_result"
    }
   ],
   "source": [
    "education1= df['education']\n",
    "education1.value_counts()"
   ]
  },
  {
   "cell_type": "code",
   "execution_count": 37,
   "id": "363deb13",
   "metadata": {},
   "outputs": [
    {
     "data": {
      "text/plain": [
       "6548"
      ]
     },
     "execution_count": 37,
     "metadata": {},
     "output_type": "execute_result"
    }
   ],
   "source": [
    "df['education'].value_counts().max()"
   ]
  },
  {
   "cell_type": "code",
   "execution_count": 38,
   "id": "29780dfa",
   "metadata": {},
   "outputs": [
    {
     "data": {
      "text/plain": [
       "<AxesSubplot:title={'center':'What is the most common educatione on the customer?'}, xlabel=\"Educatione'\", ylabel='NUMMBER OF THE CUSTOMER'>"
      ]
     },
     "execution_count": 38,
     "metadata": {},
     "output_type": "execute_result"
    },
    {
     "data": {
      "image/png": "[encoded data removed]",
      "text/plain": [
       "<Figure size 576x432 with 1 Axes>"
      ]
     },
     "metadata": {
      "needs_background": "light"
     },
     "output_type": "display_data"
    }
   ],
   "source": [
    "plt.xlabel(\"Educatione'\")\n",
    "plt.ylabel(\"NUMMBER OF THE CUSTOMER\")\n",
    "plt.title('What is the most common educatione on the customer?', fontsize=20,fontweight=10,  pad='2.0')\n",
    "education1.value_counts().plot(kind='bar',  color = 'SteelBlue', figsize=(8,6))"
   ]
  },
  {
   "cell_type": "markdown",
   "id": "8d111648",
   "metadata": {},
   "source": [
    "# Q4\\ What is the most common marrige on the customer?"
   ]
  },
  {
   "cell_type": "code",
   "execution_count": 39,
   "id": "3bd1322a",
   "metadata": {},
   "outputs": [
    {
     "name": "stdout",
     "output_type": "stream",
     "text": [
      "  marriage online  Count\n",
      "0  Married      N   4789\n",
      "1  Married      Y  14483\n",
      "2   Single      N   2242\n",
      "3   Single      Y   2044\n"
     ]
    }
   ],
   "source": [
    "marrige_bp = df.groupby(['marriage', 'online']).size().reset_index(name = 'Count')\n",
    "print(marrige_bp)"
   ]
  },
  {
   "cell_type": "code",
   "execution_count": 40,
   "id": "3ea22d97",
   "metadata": {},
   "outputs": [
    {
     "data": {
      "text/plain": [
       "19272"
      ]
     },
     "execution_count": 40,
     "metadata": {},
     "output_type": "execute_result"
    }
   ],
   "source": [
    "df['marriage'].value_counts().max()"
   ]
  },
  {
   "cell_type": "code",
   "execution_count": 41,
   "id": "534af913",
   "metadata": {
    "scrolled": true
   },
   "outputs": [
    {
     "data": {
      "image/png": "[encoded data removed]",
      "text/plain": [
       "<Figure size 576x432 with 1 Axes>"
      ]
     },
     "metadata": {
      "needs_background": "light"
     },
     "output_type": "display_data"
    }
   ],
   "source": [
    "plt.figure(figsize = (8,6))\n",
    "sns.barplot(x = 'marriage', y = 'Count', hue = 'online', data =marrige_bp, palette=\"Blues_r\")\n",
    "plt.title('most common of the marrige sales online ',fontweight=\"bold\")\n",
    "plt.show()"
   ]
  },
  {
   "cell_type": "markdown",
   "id": "4abdccc8",
   "metadata": {},
   "source": [
    "# Q5\\ What is the most common you have child or not on the customer?"
   ]
  },
  {
   "cell_type": "code",
   "execution_count": 42,
   "id": "c5883d0f",
   "metadata": {},
   "outputs": [
    {
     "name": "stdout",
     "output_type": "stream",
     "text": [
      "  marriage child  Count\n",
      "0  Married     N   6151\n",
      "1  Married     U   3591\n",
      "2  Married     Y   9530\n",
      "3   Single     N   1162\n",
      "4   Single     U   1467\n",
      "5   Single     Y   1657\n"
     ]
    }
   ],
   "source": [
    "child_bp = df.groupby(['marriage', 'child']).size().reset_index(name = 'Count')\n",
    "print(child_bp)"
   ]
  },
  {
   "cell_type": "code",
   "execution_count": 43,
   "id": "d3da0205",
   "metadata": {},
   "outputs": [
    {
     "data": {
      "text/plain": [
       "11187"
      ]
     },
     "execution_count": 43,
     "metadata": {},
     "output_type": "execute_result"
    }
   ],
   "source": [
    "df['child'].value_counts().max()"
   ]
  },
  {
   "cell_type": "code",
   "execution_count": 44,
   "id": "7ee7b505",
   "metadata": {
    "scrolled": true
   },
   "outputs": [
    {
     "data": {
      "image/png": "[encoded data removed]",
      "text/plain": [
       "<Figure size 576x432 with 1 Axes>"
      ]
     },
     "metadata": {
      "needs_background": "light"
     },
     "output_type": "display_data"
    }
   ],
   "source": [
    "plt.figure(figsize = (8,6))\n",
    "sns.barplot(x = 'marriage', y = 'Count', hue = 'child', data = child_bp, palette=\"Blues_r\")\n",
    "plt.title('most common of the marrige you have child or not ',fontweight=\"bold\")\n",
    "plt.show()"
   ]
  },
  {
   "cell_type": "markdown",
   "id": "cc8cc791",
   "metadata": {},
   "source": [
    "# Q6\\ What are the age groups for customer avarge sales?    "
   ]
  },
  {
   "cell_type": "code",
   "execution_count": 45,
   "id": "094c099a",
   "metadata": {},
   "outputs": [
    {
     "data": {
      "text/html": [
       "<div>\n",
       "<style scoped>\n",
       "    .dataframe tbody tr th:only-of-type {\n",
       "        vertical-align: middle;\n",
       "    }\n",
       "\n",
       "    .dataframe tbody tr th {\n",
       "        vertical-align: top;\n",
       "    }\n",
       "\n",
       "    .dataframe thead th {\n",
       "        text-align: right;\n",
       "    }\n",
       "</style>\n",
       "<table border=\"1\" class=\"dataframe\">\n",
       "  <thead>\n",
       "    <tr style=\"text-align: right;\">\n",
       "      <th></th>\n",
       "      <th>flag</th>\n",
       "      <th>gender</th>\n",
       "      <th>education</th>\n",
       "      <th>house_value</th>\n",
       "      <th>age</th>\n",
       "      <th>online</th>\n",
       "      <th>marriage</th>\n",
       "      <th>child</th>\n",
       "      <th>occupation</th>\n",
       "      <th>house_owner</th>\n",
       "      <th>region</th>\n",
       "      <th>fam_income</th>\n",
       "    </tr>\n",
       "  </thead>\n",
       "  <tbody>\n",
       "    <tr>\n",
       "      <th>7440</th>\n",
       "      <td>Y</td>\n",
       "      <td>U</td>\n",
       "      <td>4. Grad</td>\n",
       "      <td>327981</td>\n",
       "      <td>1_Unk</td>\n",
       "      <td>N</td>\n",
       "      <td>Married</td>\n",
       "      <td>Y</td>\n",
       "      <td>Sales/Service</td>\n",
       "      <td>Owner</td>\n",
       "      <td>Midwest</td>\n",
       "      <td>K</td>\n",
       "    </tr>\n",
       "    <tr>\n",
       "      <th>10924</th>\n",
       "      <td>N</td>\n",
       "      <td>F</td>\n",
       "      <td>4. Grad</td>\n",
       "      <td>129822</td>\n",
       "      <td>1_Unk</td>\n",
       "      <td>Y</td>\n",
       "      <td>Married</td>\n",
       "      <td>U</td>\n",
       "      <td>Sales/Service</td>\n",
       "      <td>Owner</td>\n",
       "      <td>South</td>\n",
       "      <td>D</td>\n",
       "    </tr>\n",
       "    <tr>\n",
       "      <th>32213</th>\n",
       "      <td>N</td>\n",
       "      <td>F</td>\n",
       "      <td>1. HS</td>\n",
       "      <td>0</td>\n",
       "      <td>1_Unk</td>\n",
       "      <td>N</td>\n",
       "      <td>Single</td>\n",
       "      <td>Y</td>\n",
       "      <td>Sales/Service</td>\n",
       "      <td>Renter</td>\n",
       "      <td>Midwest</td>\n",
       "      <td>K</td>\n",
       "    </tr>\n",
       "    <tr>\n",
       "      <th>25821</th>\n",
       "      <td>N</td>\n",
       "      <td>M</td>\n",
       "      <td>1. HS</td>\n",
       "      <td>296839</td>\n",
       "      <td>1_Unk</td>\n",
       "      <td>N</td>\n",
       "      <td>Married</td>\n",
       "      <td>Y</td>\n",
       "      <td>Sales/Service</td>\n",
       "      <td>Owner</td>\n",
       "      <td>Northeast</td>\n",
       "      <td>D</td>\n",
       "    </tr>\n",
       "    <tr>\n",
       "      <th>10909</th>\n",
       "      <td>Y</td>\n",
       "      <td>F</td>\n",
       "      <td>0. &lt;HS</td>\n",
       "      <td>1163030</td>\n",
       "      <td>1_Unk</td>\n",
       "      <td>Y</td>\n",
       "      <td>Married</td>\n",
       "      <td>Y</td>\n",
       "      <td>Professional</td>\n",
       "      <td>Renter</td>\n",
       "      <td>Northeast</td>\n",
       "      <td>E</td>\n",
       "    </tr>\n",
       "    <tr>\n",
       "      <th>...</th>\n",
       "      <td>...</td>\n",
       "      <td>...</td>\n",
       "      <td>...</td>\n",
       "      <td>...</td>\n",
       "      <td>...</td>\n",
       "      <td>...</td>\n",
       "      <td>...</td>\n",
       "      <td>...</td>\n",
       "      <td>...</td>\n",
       "      <td>...</td>\n",
       "      <td>...</td>\n",
       "      <td>...</td>\n",
       "    </tr>\n",
       "    <tr>\n",
       "      <th>16273</th>\n",
       "      <td>N</td>\n",
       "      <td>F</td>\n",
       "      <td>1. HS</td>\n",
       "      <td>427770</td>\n",
       "      <td>7_&gt;65</td>\n",
       "      <td>Y</td>\n",
       "      <td>Married</td>\n",
       "      <td>N</td>\n",
       "      <td>Retired</td>\n",
       "      <td>Owner</td>\n",
       "      <td>Northeast</td>\n",
       "      <td>H</td>\n",
       "    </tr>\n",
       "    <tr>\n",
       "      <th>16272</th>\n",
       "      <td>Y</td>\n",
       "      <td>M</td>\n",
       "      <td>4. Grad</td>\n",
       "      <td>546596</td>\n",
       "      <td>7_&gt;65</td>\n",
       "      <td>Y</td>\n",
       "      <td>Married</td>\n",
       "      <td>N</td>\n",
       "      <td>Professional</td>\n",
       "      <td>Renter</td>\n",
       "      <td>Midwest</td>\n",
       "      <td>H</td>\n",
       "    </tr>\n",
       "    <tr>\n",
       "      <th>16266</th>\n",
       "      <td>Y</td>\n",
       "      <td>M</td>\n",
       "      <td>2. Some College</td>\n",
       "      <td>226440</td>\n",
       "      <td>7_&gt;65</td>\n",
       "      <td>Y</td>\n",
       "      <td>Married</td>\n",
       "      <td>N</td>\n",
       "      <td>Others</td>\n",
       "      <td>Owner</td>\n",
       "      <td>Northeast</td>\n",
       "      <td>E</td>\n",
       "    </tr>\n",
       "    <tr>\n",
       "      <th>16425</th>\n",
       "      <td>N</td>\n",
       "      <td>M</td>\n",
       "      <td>1. HS</td>\n",
       "      <td>195622</td>\n",
       "      <td>7_&gt;65</td>\n",
       "      <td>Y</td>\n",
       "      <td>Married</td>\n",
       "      <td>N</td>\n",
       "      <td>Professional</td>\n",
       "      <td>Owner</td>\n",
       "      <td>Midwest</td>\n",
       "      <td>E</td>\n",
       "    </tr>\n",
       "    <tr>\n",
       "      <th>39999</th>\n",
       "      <td>N</td>\n",
       "      <td>F</td>\n",
       "      <td>3. Bach</td>\n",
       "      <td>836030</td>\n",
       "      <td>7_&gt;65</td>\n",
       "      <td>Y</td>\n",
       "      <td>Married</td>\n",
       "      <td>N</td>\n",
       "      <td>Retired</td>\n",
       "      <td>Owner</td>\n",
       "      <td>Northeast</td>\n",
       "      <td>J</td>\n",
       "    </tr>\n",
       "  </tbody>\n",
       "</table>\n",
       "<p>23558 rows × 12 columns</p>\n",
       "</div>"
      ],
      "text/plain": [
       "      flag gender        education  house_value    age online marriage child  \\\n",
       "7440     Y      U          4. Grad       327981  1_Unk      N  Married     Y   \n",
       "10924    N      F          4. Grad       129822  1_Unk      Y  Married     U   \n",
       "32213    N      F            1. HS            0  1_Unk      N   Single     Y   \n",
       "25821    N      M            1. HS       296839  1_Unk      N  Married     Y   \n",
       "10909    Y      F           0. <HS      1163030  1_Unk      Y  Married     Y   \n",
       "...    ...    ...              ...          ...    ...    ...      ...   ...   \n",
       "16273    N      F            1. HS       427770  7_>65      Y  Married     N   \n",
       "16272    Y      M          4. Grad       546596  7_>65      Y  Married     N   \n",
       "16266    Y      M  2. Some College       226440  7_>65      Y  Married     N   \n",
       "16425    N      M            1. HS       195622  7_>65      Y  Married     N   \n",
       "39999    N      F          3. Bach       836030  7_>65      Y  Married     N   \n",
       "\n",
       "          occupation house_owner     region fam_income  \n",
       "7440   Sales/Service       Owner    Midwest          K  \n",
       "10924  Sales/Service       Owner      South          D  \n",
       "32213  Sales/Service      Renter    Midwest          K  \n",
       "25821  Sales/Service       Owner  Northeast          D  \n",
       "10909   Professional      Renter  Northeast          E  \n",
       "...              ...         ...        ...        ...  \n",
       "16273        Retired       Owner  Northeast          H  \n",
       "16272   Professional      Renter    Midwest          H  \n",
       "16266         Others       Owner  Northeast          E  \n",
       "16425   Professional       Owner    Midwest          E  \n",
       "39999        Retired       Owner  Northeast          J  \n",
       "\n",
       "[23558 rows x 12 columns]"
      ]
     },
     "execution_count": 45,
     "metadata": {},
     "output_type": "execute_result"
    }
   ],
   "source": [
    "df.sort_values(['age'], ascending=True)"
   ]
  },
  {
   "cell_type": "code",
   "execution_count": 46,
   "id": "baf6b40b",
   "metadata": {},
   "outputs": [
    {
     "data": {
      "text/plain": [
       "5_<=55    6091\n",
       "4_<=45    4988\n",
       "6_<=65    3987\n",
       "1_Unk     3082\n",
       "3_<=35    2515\n",
       "7_>65     2308\n",
       "2_<=25     587\n",
       "Name: age, dtype: int64"
      ]
     },
     "execution_count": 46,
     "metadata": {},
     "output_type": "execute_result"
    }
   ],
   "source": [
    "AGE= df['age']\n",
    "AGE.value_counts()"
   ]
  },
  {
   "cell_type": "code",
   "execution_count": 47,
   "id": "520829f1",
   "metadata": {},
   "outputs": [
    {
     "data": {
      "text/plain": [
       "3082.0"
      ]
     },
     "execution_count": 47,
     "metadata": {},
     "output_type": "execute_result"
    }
   ],
   "source": [
    "df['age'].value_counts().median()"
   ]
  },
  {
   "cell_type": "code",
   "execution_count": 48,
   "id": "9a132930",
   "metadata": {},
   "outputs": [
    {
     "data": {
      "image/png": "[encoded data removed]",
      "text/plain": [
       "<Figure size 576x360 with 1 Axes>"
      ]
     },
     "metadata": {
      "needs_background": "light"
     },
     "output_type": "display_data"
    }
   ],
   "source": [
    "plt.figure(figsize=(8,5))\n",
    "plt.hist(df[\"age\"],bins=15, align='right', color='SteelBlue', edgecolor='black')\n",
    "plt.title('Age of the customer by group ?', fontsize=20 , fontweight=10,  pad='2.0')\n",
    "plt.xlabel(\"group age\")\n",
    "plt.show()"
   ]
  },
  {
   "cell_type": "markdown",
   "id": "80fa5b74",
   "metadata": {},
   "source": [
    "# Q7 \\ What region sold the most?"
   ]
  },
  {
   "cell_type": "code",
   "execution_count": 49,
   "id": "e87dd3e8",
   "metadata": {},
   "outputs": [
    {
     "data": {
      "text/plain": [
       "South        9186\n",
       "West         5135\n",
       "Midwest      4888\n",
       "Northeast    4211\n",
       "Rest          138\n",
       "Name: region, dtype: int64"
      ]
     },
     "execution_count": 49,
     "metadata": {},
     "output_type": "execute_result"
    }
   ],
   "source": [
    "RIGON=df['region']\n",
    "RIGON.value_counts()"
   ]
  },
  {
   "cell_type": "code",
   "execution_count": 50,
   "id": "a45a1efc",
   "metadata": {},
   "outputs": [
    {
     "data": {
      "text/plain": [
       "9186"
      ]
     },
     "execution_count": 50,
     "metadata": {},
     "output_type": "execute_result"
    }
   ],
   "source": [
    "df['region'].value_counts().max()"
   ]
  },
  {
   "cell_type": "code",
   "execution_count": 51,
   "id": "6e4e8201",
   "metadata": {},
   "outputs": [
    {
     "data": {
      "image/png": "[encoded data removed]",
      "text/plain": [
       "<Figure size 432x288 with 1 Axes>"
      ]
     },
     "metadata": {
      "needs_background": "light"
     },
     "output_type": "display_data"
    }
   ],
   "source": [
    "x=['Midwest', 'Northeast', 'West', 'South', 'Rest']\n",
    "plt.xlabel(\"region\")\n",
    "plt.ylabel(\"count\")\n",
    "plt.title('What region sold the most?', fontsize=20,fontweight=10,  pad='2.0',fontstyle='italic')\n",
    "RIGON.value_counts().plot(kind='bar', linewidth=0, stacked=True ,color='SteelBlue')\n",
    "plt.show()"
   ]
  },
  {
   "cell_type": "markdown",
   "id": "9a4f5390",
   "metadata": {},
   "source": [
    "# Q8\\ What the least occupation ?'"
   ]
  },
  {
   "cell_type": "code",
   "execution_count": 52,
   "id": "bfae20a3",
   "metadata": {},
   "outputs": [
    {
     "data": {
      "text/plain": [
       "Professional     9820\n",
       "Sales/Service    6649\n",
       "Blue Collar      3984\n",
       "Retired          2020\n",
       "Others            916\n",
       "Farm              169\n",
       "Name: occupation, dtype: int64"
      ]
     },
     "execution_count": 52,
     "metadata": {},
     "output_type": "execute_result"
    }
   ],
   "source": [
    "occupation1= df['occupation']\n",
    "occupation1.value_counts()"
   ]
  },
  {
   "cell_type": "code",
   "execution_count": 53,
   "id": "ebe68e3d",
   "metadata": {},
   "outputs": [
    {
     "data": {
      "text/plain": [
       "169"
      ]
     },
     "execution_count": 53,
     "metadata": {},
     "output_type": "execute_result"
    }
   ],
   "source": [
    "df['occupation'].value_counts().min()"
   ]
  },
  {
   "cell_type": "code",
   "execution_count": 54,
   "id": "a92cd414",
   "metadata": {},
   "outputs": [
    {
     "data": {
      "image/png": "[encoded data removed]",
      "text/plain": [
       "<Figure size 432x288 with 1 Axes>"
      ]
     },
     "metadata": {
      "needs_background": "light"
     },
     "output_type": "display_data"
    }
   ],
   "source": [
    "plt.xlabel(\"occupation\")\n",
    "plt.ylabel(\"count\")\n",
    "plt.title('What the least occupation ?', fontsize=20,fontstyle='italic')\n",
    "occupation1.value_counts().plot(kind='bar', linewidth=0, stacked=True ,color='SteelBlue')\n",
    "plt.show()"
   ]
  },
  {
   "cell_type": "markdown",
   "id": "f4859317",
   "metadata": {},
   "source": [
    "# Q9\\ customer has bought the target product or not?"
   ]
  },
  {
   "cell_type": "code",
   "execution_count": 55,
   "id": "2a6030d5",
   "metadata": {},
   "outputs": [
    {
     "data": {
      "text/plain": [
       "Y    13339\n",
       "N    10219\n",
       "Name: flag, dtype: int64"
      ]
     },
     "execution_count": 55,
     "metadata": {},
     "output_type": "execute_result"
    }
   ],
   "source": [
    "FLAG= df['flag']\n",
    "FLAG.value_counts()"
   ]
  },
  {
   "cell_type": "code",
   "execution_count": 56,
   "id": "79984535",
   "metadata": {},
   "outputs": [
    {
     "name": "stderr",
     "output_type": "stream",
     "text": [
      "C:\\Users\\Lenovo\\anaconda3\\lib\\site-packages\\seaborn\\_decorators.py:36: FutureWarning: Pass the following variable as a keyword arg: x. From version 0.12, the only valid positional argument will be `data`, and passing other arguments without an explicit keyword will result in an error or misinterpretation.\n",
      "  warnings.warn(\n"
     ]
    },
    {
     "data": {
      "image/png": "[encoded data removed]",
      "text/plain": [
       "<Figure size 1080x576 with 2 Axes>"
      ]
     },
     "metadata": {
      "needs_background": "light"
     },
     "output_type": "display_data"
    }
   ],
   "source": [
    "color=['LightBlue','SteelBlue']\n",
    "f,ax=plt.subplots(1,2,figsize=(15,8))\n",
    "df['flag'].value_counts().plot.pie(explode=[0,0.1],colors=color,autopct='%1.1f%%',ax=ax[0],shadow=True)\n",
    "ax[0].set_title('flag',fontweight=\"bold\")\n",
    "ax[0].set_ylabel('flag')\n",
    "sns.countplot('flag',data =df, ax=ax[1],palette='Blues_r')\n",
    "ax[1].set_title('flag',fontweight=\"bold\")\n",
    "plt.show()"
   ]
  },
  {
   "cell_type": "markdown",
   "id": "b3adb4bf",
   "metadata": {},
   "source": [
    "# Q10\\ What percentage of customers return the purchase experience?"
   ]
  },
  {
   "cell_type": "code",
   "execution_count": 57,
   "id": "49b1464d",
   "metadata": {},
   "outputs": [
    {
     "data": {
      "text/plain": [
       "Y    16527\n",
       "N     7031\n",
       "Name: online, dtype: int64"
      ]
     },
     "execution_count": 57,
     "metadata": {},
     "output_type": "execute_result"
    }
   ],
   "source": [
    "ONLINE= df['online']\n",
    "ONLINE.value_counts()"
   ]
  },
  {
   "cell_type": "code",
   "execution_count": 58,
   "id": "e1a12d52",
   "metadata": {},
   "outputs": [],
   "source": [
    "df = pd.DataFrame({'Total_online': [18139,17839]},\n",
    "                   index=['Y', 'N'])"
   ]
  },
  {
   "cell_type": "code",
   "execution_count": 59,
   "id": "3cbfa091",
   "metadata": {},
   "outputs": [
    {
     "data": {
      "text/html": [
       "<div>\n",
       "<style scoped>\n",
       "    .dataframe tbody tr th:only-of-type {\n",
       "        vertical-align: middle;\n",
       "    }\n",
       "\n",
       "    .dataframe tbody tr th {\n",
       "        vertical-align: top;\n",
       "    }\n",
       "\n",
       "    .dataframe thead th {\n",
       "        text-align: right;\n",
       "    }\n",
       "</style>\n",
       "<table border=\"1\" class=\"dataframe\">\n",
       "  <thead>\n",
       "    <tr style=\"text-align: right;\">\n",
       "      <th></th>\n",
       "      <th>Total_online</th>\n",
       "    </tr>\n",
       "  </thead>\n",
       "  <tbody>\n",
       "    <tr>\n",
       "      <th>Y</th>\n",
       "      <td>18139</td>\n",
       "    </tr>\n",
       "    <tr>\n",
       "      <th>N</th>\n",
       "      <td>17839</td>\n",
       "    </tr>\n",
       "  </tbody>\n",
       "</table>\n",
       "</div>"
      ],
      "text/plain": [
       "   Total_online\n",
       "Y         18139\n",
       "N         17839"
      ]
     },
     "execution_count": 59,
     "metadata": {},
     "output_type": "execute_result"
    }
   ],
   "source": [
    "df"
   ]
  },
  {
   "cell_type": "code",
   "execution_count": 60,
   "id": "8f02a1a4",
   "metadata": {},
   "outputs": [
    {
     "name": "stderr",
     "output_type": "stream",
     "text": [
      "C:\\Users\\Lenovo\\anaconda3\\lib\\site-packages\\seaborn\\_decorators.py:36: FutureWarning: Pass the following variable as a keyword arg: x. From version 0.12, the only valid positional argument will be `data`, and passing other arguments without an explicit keyword will result in an error or misinterpretation.\n",
      "  warnings.warn(\n"
     ]
    },
    {
     "data": {
      "image/png": "[encoded data removed]",
      "text/plain": [
       "<Figure size 1080x576 with 2 Axes>"
      ]
     },
     "metadata": {
      "needs_background": "light"
     },
     "output_type": "display_data"
    }
   ],
   "source": [
    "color=['LightBlue','SteelBlue']\n",
    "f,ax=plt.subplots(1,2,figsize=(15,8))\n",
    "df['Total_online'].value_counts().plot.pie(explode=[0,0.1],colors=color,autopct='%1.1f%%',ax=ax[0],shadow=True)\n",
    "ax[0].set_title('Whether the customer has bought the target product or not',fontweight=\"bold\")\n",
    "ax[0].set_ylabel('Total_online')\n",
    "sns.countplot('Total_online',data =df, ax=ax[1],palette='Blues_r')\n",
    "ax[1].set_title('Total_online',fontweight=\"bold\")\n",
    "plt.show()"
   ]
  },
  {
   "cell_type": "code",
   "execution_count": 61,
   "id": "6c189a35",
   "metadata": {},
   "outputs": [],
   "source": [
    "df.to_csv(\"new_sales_data.csv\")"
   ]
  },
  {
   "cell_type": "code",
   "execution_count": null,
   "id": "9347616d",
   "metadata": {},
   "outputs": [],
   "source": []
  },
  {
   "cell_type": "code",
   "execution_count": null,
   "id": "e96ca180",
   "metadata": {},
   "outputs": [],
   "source": []
  },
  {
   "cell_type": "code",
   "execution_count": null,
   "id": "fd2de065",
   "metadata": {},
   "outputs": [],
   "source": []
  },
  {
   "cell_type": "code",
   "execution_count": null,
   "id": "79b521e7",
   "metadata": {},
   "outputs": [],
   "source": []
  },
  {
   "cell_type": "code",
   "execution_count": null,
   "id": "d101408d",
   "metadata": {},
   "outputs": [],
   "source": []
  },
  {
   "cell_type": "code",
   "execution_count": null,
   "id": "374be2e0",
   "metadata": {},
   "outputs": [],
   "source": []
  }
 ],
 "metadata": {
  "kernelspec": {
   "display_name": "Python 3",
   "language": "python",
   "name": "python3"
  },
  "language_info": {
   "codemirror_mode": {
    "name": "ipython",
    "version": 3
   },
   "file_extension": ".py",
   "mimetype": "text/x-python",
   "name": "python",
   "nbconvert_exporter": "python",
   "pygments_lexer": "ipython3",
   "version": "3.8.8"
  }
 },
 "nbformat": 4,
 "nbformat_minor": 5
}
